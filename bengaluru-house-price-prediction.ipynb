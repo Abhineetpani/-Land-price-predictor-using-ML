{
 "cells": [
  {
   "cell_type": "code",
   "execution_count": 89,
   "id": "050e8f52",
   "metadata": {
    "_cell_guid": "b1076dfc-b9ad-4769-8c92-a6c4dae69d19",
    "_uuid": "8f2839f25d086af736a60e9eeb907d3b93b6e0e5",
    "execution": {
     "iopub.execute_input": "2024-03-13T08:57:37.900385Z",
     "iopub.status.busy": "2024-03-13T08:57:37.900090Z",
     "iopub.status.idle": "2024-03-13T08:57:38.609384Z",
     "shell.execute_reply": "2024-03-13T08:57:38.608349Z"
    },
    "papermill": {
     "duration": 0.733739,
     "end_time": "2024-03-13T08:57:38.611585",
     "exception": false,
     "start_time": "2024-03-13T08:57:37.877846",
     "status": "completed"
    },
    "tags": []
   },
   "outputs": [],
   "source": [
    "# This Python 3 environment comes with many helpful analytics libraries installed\n",
    "# It is defined by the kaggle/python Docker image: https://github.com/kaggle/docker-python\n",
    "# For example, here's several helpful packages to load\n",
    "\n",
    "import numpy as np # linear algebra\n",
    "import pandas as pd # data processing, CSV file I/O (e.g. pd.read_csv)\n",
    "import matplotlib.pyplot as plt\n",
    "import seaborn as sns\n",
    "\n",
    "# Input data files are available in the read-only \"../input/\" directory\n",
    "# For example, running this (by clicking run or pressing Shift+Enter) will list all files under the input directory\n",
    "\n"
   ]
  },
  {
   "cell_type": "code",
   "execution_count": 94,
   "id": "aae0be8a",
   "metadata": {
    "execution": {
     "iopub.execute_input": "2024-03-13T08:57:38.656428Z",
     "iopub.status.busy": "2024-03-13T08:57:38.656024Z",
     "iopub.status.idle": "2024-03-13T08:57:38.703827Z",
     "shell.execute_reply": "2024-03-13T08:57:38.703081Z"
    },
    "papermill": {
     "duration": 0.073066,
     "end_time": "2024-03-13T08:57:38.705900",
     "exception": false,
     "start_time": "2024-03-13T08:57:38.632834",
     "status": "completed"
    },
    "tags": []
   },
   "outputs": [],
   "source": [
    "df = pd.read_csv('Bengaluru_House_Data.csv')"
   ]
  },
  {
   "cell_type": "code",
   "execution_count": 3,
   "id": "1aba44ec",
   "metadata": {
    "execution": {
     "iopub.execute_input": "2024-03-13T08:57:38.749030Z",
     "iopub.status.busy": "2024-03-13T08:57:38.748745Z",
     "iopub.status.idle": "2024-03-13T08:57:38.768162Z",
     "shell.execute_reply": "2024-03-13T08:57:38.767390Z"
    },
    "papermill": {
     "duration": 0.043143,
     "end_time": "2024-03-13T08:57:38.770146",
     "exception": false,
     "start_time": "2024-03-13T08:57:38.727003",
     "status": "completed"
    },
    "tags": []
   },
   "outputs": [
    {
     "data": {
      "text/html": [
       "<div>\n",
       "<style scoped>\n",
       "    .dataframe tbody tr th:only-of-type {\n",
       "        vertical-align: middle;\n",
       "    }\n",
       "\n",
       "    .dataframe tbody tr th {\n",
       "        vertical-align: top;\n",
       "    }\n",
       "\n",
       "    .dataframe thead th {\n",
       "        text-align: right;\n",
       "    }\n",
       "</style>\n",
       "<table border=\"1\" class=\"dataframe\">\n",
       "  <thead>\n",
       "    <tr style=\"text-align: right;\">\n",
       "      <th></th>\n",
       "      <th>area_type</th>\n",
       "      <th>availability</th>\n",
       "      <th>location</th>\n",
       "      <th>size</th>\n",
       "      <th>society</th>\n",
       "      <th>total_sqft</th>\n",
       "      <th>bath</th>\n",
       "      <th>balcony</th>\n",
       "      <th>price</th>\n",
       "    </tr>\n",
       "  </thead>\n",
       "  <tbody>\n",
       "    <tr>\n",
       "      <th>0</th>\n",
       "      <td>Super built-up  Area</td>\n",
       "      <td>19-Dec</td>\n",
       "      <td>Electronic City Phase II</td>\n",
       "      <td>2 BHK</td>\n",
       "      <td>Coomee</td>\n",
       "      <td>1056</td>\n",
       "      <td>2.0</td>\n",
       "      <td>1.0</td>\n",
       "      <td>39.07</td>\n",
       "    </tr>\n",
       "    <tr>\n",
       "      <th>1</th>\n",
       "      <td>Plot  Area</td>\n",
       "      <td>Ready To Move</td>\n",
       "      <td>Chikka Tirupathi</td>\n",
       "      <td>4 Bedroom</td>\n",
       "      <td>Theanmp</td>\n",
       "      <td>2600</td>\n",
       "      <td>5.0</td>\n",
       "      <td>3.0</td>\n",
       "      <td>120.00</td>\n",
       "    </tr>\n",
       "    <tr>\n",
       "      <th>2</th>\n",
       "      <td>Built-up  Area</td>\n",
       "      <td>Ready To Move</td>\n",
       "      <td>Uttarahalli</td>\n",
       "      <td>3 BHK</td>\n",
       "      <td>NaN</td>\n",
       "      <td>1440</td>\n",
       "      <td>2.0</td>\n",
       "      <td>3.0</td>\n",
       "      <td>62.00</td>\n",
       "    </tr>\n",
       "    <tr>\n",
       "      <th>3</th>\n",
       "      <td>Super built-up  Area</td>\n",
       "      <td>Ready To Move</td>\n",
       "      <td>Lingadheeranahalli</td>\n",
       "      <td>3 BHK</td>\n",
       "      <td>Soiewre</td>\n",
       "      <td>1521</td>\n",
       "      <td>3.0</td>\n",
       "      <td>1.0</td>\n",
       "      <td>95.00</td>\n",
       "    </tr>\n",
       "    <tr>\n",
       "      <th>4</th>\n",
       "      <td>Super built-up  Area</td>\n",
       "      <td>Ready To Move</td>\n",
       "      <td>Kothanur</td>\n",
       "      <td>2 BHK</td>\n",
       "      <td>NaN</td>\n",
       "      <td>1200</td>\n",
       "      <td>2.0</td>\n",
       "      <td>1.0</td>\n",
       "      <td>51.00</td>\n",
       "    </tr>\n",
       "  </tbody>\n",
       "</table>\n",
       "</div>"
      ],
      "text/plain": [
       "              area_type   availability                  location       size  \\\n",
       "0  Super built-up  Area         19-Dec  Electronic City Phase II      2 BHK   \n",
       "1            Plot  Area  Ready To Move          Chikka Tirupathi  4 Bedroom   \n",
       "2        Built-up  Area  Ready To Move               Uttarahalli      3 BHK   \n",
       "3  Super built-up  Area  Ready To Move        Lingadheeranahalli      3 BHK   \n",
       "4  Super built-up  Area  Ready To Move                  Kothanur      2 BHK   \n",
       "\n",
       "   society total_sqft  bath  balcony   price  \n",
       "0  Coomee        1056   2.0      1.0   39.07  \n",
       "1  Theanmp       2600   5.0      3.0  120.00  \n",
       "2      NaN       1440   2.0      3.0   62.00  \n",
       "3  Soiewre       1521   3.0      1.0   95.00  \n",
       "4      NaN       1200   2.0      1.0   51.00  "
      ]
     },
     "execution_count": 3,
     "metadata": {},
     "output_type": "execute_result"
    }
   ],
   "source": [
    "df.head(5)"
   ]
  },
  {
   "cell_type": "code",
   "execution_count": 4,
   "id": "7f33b8a7",
   "metadata": {
    "execution": {
     "iopub.execute_input": "2024-03-13T08:57:38.813467Z",
     "iopub.status.busy": "2024-03-13T08:57:38.813180Z",
     "iopub.status.idle": "2024-03-13T08:57:38.842628Z",
     "shell.execute_reply": "2024-03-13T08:57:38.841641Z"
    },
    "papermill": {
     "duration": 0.05313,
     "end_time": "2024-03-13T08:57:38.844654",
     "exception": false,
     "start_time": "2024-03-13T08:57:38.791524",
     "status": "completed"
    },
    "tags": []
   },
   "outputs": [
    {
     "name": "stdout",
     "output_type": "stream",
     "text": [
      "<class 'pandas.core.frame.DataFrame'>\n",
      "RangeIndex: 13320 entries, 0 to 13319\n",
      "Data columns (total 9 columns):\n",
      " #   Column        Non-Null Count  Dtype  \n",
      "---  ------        --------------  -----  \n",
      " 0   area_type     13320 non-null  object \n",
      " 1   availability  13320 non-null  object \n",
      " 2   location      13319 non-null  object \n",
      " 3   size          13304 non-null  object \n",
      " 4   society       7818 non-null   object \n",
      " 5   total_sqft    13320 non-null  object \n",
      " 6   bath          13247 non-null  float64\n",
      " 7   balcony       12711 non-null  float64\n",
      " 8   price         13320 non-null  float64\n",
      "dtypes: float64(3), object(6)\n",
      "memory usage: 936.7+ KB\n"
     ]
    }
   ],
   "source": [
    "df.info()"
   ]
  },
  {
   "cell_type": "code",
   "execution_count": 5,
   "id": "fdfeacdb",
   "metadata": {
    "execution": {
     "iopub.execute_input": "2024-03-13T08:57:38.888851Z",
     "iopub.status.busy": "2024-03-13T08:57:38.888587Z",
     "iopub.status.idle": "2024-03-13T08:57:38.893830Z",
     "shell.execute_reply": "2024-03-13T08:57:38.893043Z"
    },
    "papermill": {
     "duration": 0.028872,
     "end_time": "2024-03-13T08:57:38.895654",
     "exception": false,
     "start_time": "2024-03-13T08:57:38.866782",
     "status": "completed"
    },
    "tags": []
   },
   "outputs": [
    {
     "data": {
      "text/plain": [
       "(13320, 9)"
      ]
     },
     "execution_count": 5,
     "metadata": {},
     "output_type": "execute_result"
    }
   ],
   "source": [
    "df.shape"
   ]
  },
  {
   "cell_type": "code",
   "execution_count": 6,
   "id": "194cab82",
   "metadata": {
    "execution": {
     "iopub.execute_input": "2024-03-13T08:57:38.938770Z",
     "iopub.status.busy": "2024-03-13T08:57:38.938509Z",
     "iopub.status.idle": "2024-03-13T08:57:38.952098Z",
     "shell.execute_reply": "2024-03-13T08:57:38.951284Z"
    },
    "papermill": {
     "duration": 0.03735,
     "end_time": "2024-03-13T08:57:38.954030",
     "exception": false,
     "start_time": "2024-03-13T08:57:38.916680",
     "status": "completed"
    },
    "tags": []
   },
   "outputs": [
    {
     "data": {
      "text/plain": [
       "area_type          0\n",
       "availability       0\n",
       "location           1\n",
       "size              16\n",
       "society         5502\n",
       "total_sqft         0\n",
       "bath              73\n",
       "balcony          609\n",
       "price              0\n",
       "dtype: int64"
      ]
     },
     "execution_count": 6,
     "metadata": {},
     "output_type": "execute_result"
    }
   ],
   "source": [
    "df.isna().sum()"
   ]
  },
  {
   "cell_type": "code",
   "execution_count": 7,
   "id": "2c212b07",
   "metadata": {
    "execution": {
     "iopub.execute_input": "2024-03-13T08:57:38.997279Z",
     "iopub.status.busy": "2024-03-13T08:57:38.996997Z",
     "iopub.status.idle": "2024-03-13T08:57:39.017883Z",
     "shell.execute_reply": "2024-03-13T08:57:39.016951Z"
    },
    "papermill": {
     "duration": 0.049852,
     "end_time": "2024-03-13T08:57:39.024942",
     "exception": false,
     "start_time": "2024-03-13T08:57:38.975090",
     "status": "completed"
    },
    "tags": []
   },
   "outputs": [
    {
     "name": "stdout",
     "output_type": "stream",
     "text": [
      "Super built-up  Area    8790\n",
      "Built-up  Area          2418\n",
      "Plot  Area              2025\n",
      "Carpet  Area              87\n",
      "Name: area_type, dtype: int64\n",
      "------------------------------\n",
      "Ready To Move    10581\n",
      "18-Dec             307\n",
      "18-May             295\n",
      "18-Apr             271\n",
      "18-Aug             200\n",
      "                 ...  \n",
      "15-Aug               1\n",
      "17-Jan               1\n",
      "16-Nov               1\n",
      "16-Jan               1\n",
      "14-Jul               1\n",
      "Name: availability, Length: 81, dtype: int64\n",
      "------------------------------\n",
      "Whitefield                        540\n",
      "Sarjapur  Road                    399\n",
      "Electronic City                   302\n",
      "Kanakpura Road                    273\n",
      "Thanisandra                       234\n",
      "                                 ... \n",
      "1st Stage Radha Krishna Layout      1\n",
      "BEML Layout 5th stage               1\n",
      "singapura paradise                  1\n",
      "Uvce Layout                         1\n",
      "Abshot Layout                       1\n",
      "Name: location, Length: 1306, dtype: int64\n",
      "------------------------------\n",
      "2 BHK         5199\n",
      "3 BHK         4310\n",
      "4 Bedroom      826\n",
      "4 BHK          591\n",
      "3 Bedroom      547\n",
      "1 BHK          538\n",
      "2 Bedroom      329\n",
      "5 Bedroom      297\n",
      "6 Bedroom      191\n",
      "1 Bedroom      105\n",
      "8 Bedroom       84\n",
      "7 Bedroom       83\n",
      "5 BHK           59\n",
      "9 Bedroom       46\n",
      "6 BHK           30\n",
      "7 BHK           17\n",
      "NaN             16\n",
      "1 RK            13\n",
      "10 Bedroom      12\n",
      "9 BHK            8\n",
      "8 BHK            5\n",
      "10 BHK           2\n",
      "11 BHK           2\n",
      "11 Bedroom       2\n",
      "19 BHK           1\n",
      "16 BHK           1\n",
      "43 Bedroom       1\n",
      "14 BHK           1\n",
      "27 BHK           1\n",
      "12 Bedroom       1\n",
      "13 BHK           1\n",
      "18 Bedroom       1\n",
      "Name: size, dtype: int64\n",
      "------------------------------\n",
      "NaN        5502\n",
      "GrrvaGr      80\n",
      "PrarePa      76\n",
      "Sryalan      59\n",
      "Prtates      59\n",
      "           ... \n",
      "Amionce       1\n",
      "JaghtDe       1\n",
      "Jauraht       1\n",
      "Brity U       1\n",
      "RSntsAp       1\n",
      "Name: society, Length: 2689, dtype: int64\n",
      "------------------------------\n",
      "1200    843\n",
      "1100    221\n",
      "1500    205\n",
      "2400    196\n",
      "600     180\n",
      "       ... \n",
      "3580      1\n",
      "2461      1\n",
      "1437      1\n",
      "2155      1\n",
      "4689      1\n",
      "Name: total_sqft, Length: 2117, dtype: int64\n",
      "------------------------------\n",
      "2.0     6908\n",
      "3.0     3286\n",
      "4.0     1226\n",
      "1.0      788\n",
      "5.0      524\n",
      "6.0      273\n",
      "7.0      102\n",
      "NaN       73\n",
      "8.0       64\n",
      "9.0       43\n",
      "10.0      13\n",
      "12.0       7\n",
      "13.0       3\n",
      "11.0       3\n",
      "16.0       2\n",
      "27.0       1\n",
      "40.0       1\n",
      "15.0       1\n",
      "14.0       1\n",
      "18.0       1\n",
      "Name: bath, dtype: int64\n",
      "------------------------------\n",
      "2.0    5113\n",
      "1.0    4897\n",
      "3.0    1672\n",
      "0.0    1029\n",
      "NaN     609\n",
      "Name: balcony, dtype: int64\n",
      "------------------------------\n",
      "75.00     310\n",
      "65.00     302\n",
      "55.00     275\n",
      "60.00     270\n",
      "45.00     240\n",
      "         ... \n",
      "351.00      1\n",
      "54.10       1\n",
      "80.64       1\n",
      "32.73       1\n",
      "488.00      1\n",
      "Name: price, Length: 1994, dtype: int64\n",
      "------------------------------\n"
     ]
    }
   ],
   "source": [
    "for col in df.columns:\n",
    "    print(df[col].value_counts(dropna = False))\n",
    "    print('-'*30)"
   ]
  },
  {
   "cell_type": "code",
   "execution_count": 8,
   "id": "adb70ecc",
   "metadata": {
    "execution": {
     "iopub.execute_input": "2024-03-13T08:57:39.069453Z",
     "iopub.status.busy": "2024-03-13T08:57:39.068917Z",
     "iopub.status.idle": "2024-03-13T08:57:39.076077Z",
     "shell.execute_reply": "2024-03-13T08:57:39.075240Z"
    },
    "papermill": {
     "duration": 0.031226,
     "end_time": "2024-03-13T08:57:39.078008",
     "exception": false,
     "start_time": "2024-03-13T08:57:39.046782",
     "status": "completed"
    },
    "tags": []
   },
   "outputs": [],
   "source": [
    "df.drop(columns = ['area_type','availability','society', 'balcony'], inplace = True)"
   ]
  },
  {
   "cell_type": "code",
   "execution_count": 9,
   "id": "2579744c",
   "metadata": {
    "execution": {
     "iopub.execute_input": "2024-03-13T08:57:39.122103Z",
     "iopub.status.busy": "2024-03-13T08:57:39.121840Z",
     "iopub.status.idle": "2024-03-13T08:57:39.137052Z",
     "shell.execute_reply": "2024-03-13T08:57:39.136196Z"
    },
    "papermill": {
     "duration": 0.039373,
     "end_time": "2024-03-13T08:57:39.138983",
     "exception": false,
     "start_time": "2024-03-13T08:57:39.099610",
     "status": "completed"
    },
    "tags": []
   },
   "outputs": [
    {
     "data": {
      "text/html": [
       "<div>\n",
       "<style scoped>\n",
       "    .dataframe tbody tr th:only-of-type {\n",
       "        vertical-align: middle;\n",
       "    }\n",
       "\n",
       "    .dataframe tbody tr th {\n",
       "        vertical-align: top;\n",
       "    }\n",
       "\n",
       "    .dataframe thead th {\n",
       "        text-align: right;\n",
       "    }\n",
       "</style>\n",
       "<table border=\"1\" class=\"dataframe\">\n",
       "  <thead>\n",
       "    <tr style=\"text-align: right;\">\n",
       "      <th></th>\n",
       "      <th>bath</th>\n",
       "      <th>price</th>\n",
       "    </tr>\n",
       "  </thead>\n",
       "  <tbody>\n",
       "    <tr>\n",
       "      <th>count</th>\n",
       "      <td>13247.000000</td>\n",
       "      <td>13320.000000</td>\n",
       "    </tr>\n",
       "    <tr>\n",
       "      <th>mean</th>\n",
       "      <td>2.692610</td>\n",
       "      <td>112.565627</td>\n",
       "    </tr>\n",
       "    <tr>\n",
       "      <th>std</th>\n",
       "      <td>1.341458</td>\n",
       "      <td>148.971674</td>\n",
       "    </tr>\n",
       "    <tr>\n",
       "      <th>min</th>\n",
       "      <td>1.000000</td>\n",
       "      <td>8.000000</td>\n",
       "    </tr>\n",
       "    <tr>\n",
       "      <th>25%</th>\n",
       "      <td>2.000000</td>\n",
       "      <td>50.000000</td>\n",
       "    </tr>\n",
       "    <tr>\n",
       "      <th>50%</th>\n",
       "      <td>2.000000</td>\n",
       "      <td>72.000000</td>\n",
       "    </tr>\n",
       "    <tr>\n",
       "      <th>75%</th>\n",
       "      <td>3.000000</td>\n",
       "      <td>120.000000</td>\n",
       "    </tr>\n",
       "    <tr>\n",
       "      <th>max</th>\n",
       "      <td>40.000000</td>\n",
       "      <td>3600.000000</td>\n",
       "    </tr>\n",
       "  </tbody>\n",
       "</table>\n",
       "</div>"
      ],
      "text/plain": [
       "               bath         price\n",
       "count  13247.000000  13320.000000\n",
       "mean       2.692610    112.565627\n",
       "std        1.341458    148.971674\n",
       "min        1.000000      8.000000\n",
       "25%        2.000000     50.000000\n",
       "50%        2.000000     72.000000\n",
       "75%        3.000000    120.000000\n",
       "max       40.000000   3600.000000"
      ]
     },
     "execution_count": 9,
     "metadata": {},
     "output_type": "execute_result"
    }
   ],
   "source": [
    "df.describe()"
   ]
  },
  {
   "cell_type": "code",
   "execution_count": 10,
   "id": "4cfc219e",
   "metadata": {
    "execution": {
     "iopub.execute_input": "2024-03-13T08:57:39.183244Z",
     "iopub.status.busy": "2024-03-13T08:57:39.182973Z",
     "iopub.status.idle": "2024-03-13T08:57:39.195620Z",
     "shell.execute_reply": "2024-03-13T08:57:39.194607Z"
    },
    "papermill": {
     "duration": 0.036826,
     "end_time": "2024-03-13T08:57:39.197529",
     "exception": false,
     "start_time": "2024-03-13T08:57:39.160703",
     "status": "completed"
    },
    "tags": []
   },
   "outputs": [
    {
     "name": "stdout",
     "output_type": "stream",
     "text": [
      "<class 'pandas.core.frame.DataFrame'>\n",
      "RangeIndex: 13320 entries, 0 to 13319\n",
      "Data columns (total 5 columns):\n",
      " #   Column      Non-Null Count  Dtype  \n",
      "---  ------      --------------  -----  \n",
      " 0   location    13319 non-null  object \n",
      " 1   size        13304 non-null  object \n",
      " 2   total_sqft  13320 non-null  object \n",
      " 3   bath        13247 non-null  float64\n",
      " 4   price       13320 non-null  float64\n",
      "dtypes: float64(2), object(3)\n",
      "memory usage: 520.4+ KB\n"
     ]
    }
   ],
   "source": [
    "df.info()"
   ]
  },
  {
   "cell_type": "code",
   "execution_count": 11,
   "id": "ea983058",
   "metadata": {
    "execution": {
     "iopub.execute_input": "2024-03-13T08:57:39.281542Z",
     "iopub.status.busy": "2024-03-13T08:57:39.281186Z",
     "iopub.status.idle": "2024-03-13T08:57:39.289840Z",
     "shell.execute_reply": "2024-03-13T08:57:39.288985Z"
    },
    "papermill": {
     "duration": 0.072228,
     "end_time": "2024-03-13T08:57:39.291723",
     "exception": false,
     "start_time": "2024-03-13T08:57:39.219495",
     "status": "completed"
    },
    "tags": []
   },
   "outputs": [
    {
     "data": {
      "text/plain": [
       "Whitefield                        540\n",
       "Sarjapur  Road                    399\n",
       "Electronic City                   302\n",
       "Kanakpura Road                    273\n",
       "Thanisandra                       234\n",
       "                                 ... \n",
       "Bapuji Layout                       1\n",
       "1st Stage Radha Krishna Layout      1\n",
       "BEML Layout 5th stage               1\n",
       "singapura paradise                  1\n",
       "Abshot Layout                       1\n",
       "Name: location, Length: 1305, dtype: int64"
      ]
     },
     "execution_count": 11,
     "metadata": {},
     "output_type": "execute_result"
    }
   ],
   "source": [
    "df['location'].value_counts()"
   ]
  },
  {
   "cell_type": "code",
   "execution_count": 12,
   "id": "65c61c0a",
   "metadata": {
    "execution": {
     "iopub.execute_input": "2024-03-13T08:57:39.337917Z",
     "iopub.status.busy": "2024-03-13T08:57:39.337261Z",
     "iopub.status.idle": "2024-03-13T08:57:39.346468Z",
     "shell.execute_reply": "2024-03-13T08:57:39.345623Z"
    },
    "papermill": {
     "duration": 0.034936,
     "end_time": "2024-03-13T08:57:39.348929",
     "exception": false,
     "start_time": "2024-03-13T08:57:39.313993",
     "status": "completed"
    },
    "tags": []
   },
   "outputs": [],
   "source": [
    "df['location']=df['location'].fillna('Sarjapur Road')"
   ]
  },
  {
   "cell_type": "code",
   "execution_count": 13,
   "id": "5555bd1d",
   "metadata": {
    "execution": {
     "iopub.execute_input": "2024-03-13T08:57:39.395126Z",
     "iopub.status.busy": "2024-03-13T08:57:39.394371Z",
     "iopub.status.idle": "2024-03-13T08:57:39.401984Z",
     "shell.execute_reply": "2024-03-13T08:57:39.401177Z"
    },
    "papermill": {
     "duration": 0.032351,
     "end_time": "2024-03-13T08:57:39.403921",
     "exception": false,
     "start_time": "2024-03-13T08:57:39.371570",
     "status": "completed"
    },
    "tags": []
   },
   "outputs": [
    {
     "data": {
      "text/plain": [
       "2 BHK         5199\n",
       "3 BHK         4310\n",
       "4 Bedroom      826\n",
       "4 BHK          591\n",
       "3 Bedroom      547\n",
       "1 BHK          538\n",
       "2 Bedroom      329\n",
       "5 Bedroom      297\n",
       "6 Bedroom      191\n",
       "1 Bedroom      105\n",
       "8 Bedroom       84\n",
       "7 Bedroom       83\n",
       "5 BHK           59\n",
       "9 Bedroom       46\n",
       "6 BHK           30\n",
       "7 BHK           17\n",
       "NaN             16\n",
       "1 RK            13\n",
       "10 Bedroom      12\n",
       "9 BHK            8\n",
       "8 BHK            5\n",
       "10 BHK           2\n",
       "11 BHK           2\n",
       "11 Bedroom       2\n",
       "19 BHK           1\n",
       "16 BHK           1\n",
       "43 Bedroom       1\n",
       "14 BHK           1\n",
       "27 BHK           1\n",
       "12 Bedroom       1\n",
       "13 BHK           1\n",
       "18 Bedroom       1\n",
       "Name: size, dtype: int64"
      ]
     },
     "execution_count": 13,
     "metadata": {},
     "output_type": "execute_result"
    }
   ],
   "source": [
    "df['size'].value_counts(dropna = False)"
   ]
  },
  {
   "cell_type": "code",
   "execution_count": 14,
   "id": "37f3c1b9",
   "metadata": {
    "execution": {
     "iopub.execute_input": "2024-03-13T08:57:39.451275Z",
     "iopub.status.busy": "2024-03-13T08:57:39.450990Z",
     "iopub.status.idle": "2024-03-13T08:57:39.459157Z",
     "shell.execute_reply": "2024-03-13T08:57:39.458371Z"
    },
    "papermill": {
     "duration": 0.034995,
     "end_time": "2024-03-13T08:57:39.461297",
     "exception": false,
     "start_time": "2024-03-13T08:57:39.426302",
     "status": "completed"
    },
    "tags": []
   },
   "outputs": [],
   "source": [
    "df['size'].fillna(df['size'].mode()[0], inplace = True)"
   ]
  },
  {
   "cell_type": "code",
   "execution_count": 15,
   "id": "d6247285",
   "metadata": {
    "execution": {
     "iopub.execute_input": "2024-03-13T08:57:39.506967Z",
     "iopub.status.busy": "2024-03-13T08:57:39.506704Z",
     "iopub.status.idle": "2024-03-13T08:57:39.514951Z",
     "shell.execute_reply": "2024-03-13T08:57:39.514166Z"
    },
    "papermill": {
     "duration": 0.033264,
     "end_time": "2024-03-13T08:57:39.516836",
     "exception": false,
     "start_time": "2024-03-13T08:57:39.483572",
     "status": "completed"
    },
    "tags": []
   },
   "outputs": [
    {
     "data": {
      "text/plain": [
       "2.0     6908\n",
       "3.0     3286\n",
       "4.0     1226\n",
       "1.0      788\n",
       "5.0      524\n",
       "6.0      273\n",
       "7.0      102\n",
       "NaN       73\n",
       "8.0       64\n",
       "9.0       43\n",
       "10.0      13\n",
       "12.0       7\n",
       "13.0       3\n",
       "11.0       3\n",
       "16.0       2\n",
       "27.0       1\n",
       "40.0       1\n",
       "15.0       1\n",
       "14.0       1\n",
       "18.0       1\n",
       "Name: bath, dtype: int64"
      ]
     },
     "execution_count": 15,
     "metadata": {},
     "output_type": "execute_result"
    }
   ],
   "source": [
    "df['bath'].value_counts(dropna = False)"
   ]
  },
  {
   "cell_type": "code",
   "execution_count": 16,
   "id": "3c386f38",
   "metadata": {
    "execution": {
     "iopub.execute_input": "2024-03-13T08:57:39.562897Z",
     "iopub.status.busy": "2024-03-13T08:57:39.562644Z",
     "iopub.status.idle": "2024-03-13T08:57:39.568313Z",
     "shell.execute_reply": "2024-03-13T08:57:39.567500Z"
    },
    "papermill": {
     "duration": 0.030796,
     "end_time": "2024-03-13T08:57:39.570339",
     "exception": false,
     "start_time": "2024-03-13T08:57:39.539543",
     "status": "completed"
    },
    "tags": []
   },
   "outputs": [],
   "source": [
    "df['bath'].fillna(df['bath'].median(), inplace = True)"
   ]
  },
  {
   "cell_type": "code",
   "execution_count": 17,
   "id": "afa86972",
   "metadata": {
    "execution": {
     "iopub.execute_input": "2024-03-13T08:57:39.617140Z",
     "iopub.status.busy": "2024-03-13T08:57:39.616879Z",
     "iopub.status.idle": "2024-03-13T08:57:39.628941Z",
     "shell.execute_reply": "2024-03-13T08:57:39.628054Z"
    },
    "papermill": {
     "duration": 0.037098,
     "end_time": "2024-03-13T08:57:39.630815",
     "exception": false,
     "start_time": "2024-03-13T08:57:39.593717",
     "status": "completed"
    },
    "tags": []
   },
   "outputs": [
    {
     "name": "stdout",
     "output_type": "stream",
     "text": [
      "<class 'pandas.core.frame.DataFrame'>\n",
      "RangeIndex: 13320 entries, 0 to 13319\n",
      "Data columns (total 5 columns):\n",
      " #   Column      Non-Null Count  Dtype  \n",
      "---  ------      --------------  -----  \n",
      " 0   location    13320 non-null  object \n",
      " 1   size        13320 non-null  object \n",
      " 2   total_sqft  13320 non-null  object \n",
      " 3   bath        13320 non-null  float64\n",
      " 4   price       13320 non-null  float64\n",
      "dtypes: float64(2), object(3)\n",
      "memory usage: 520.4+ KB\n"
     ]
    }
   ],
   "source": [
    "df.info()"
   ]
  },
  {
   "cell_type": "code",
   "execution_count": 18,
   "id": "9b59c680",
   "metadata": {
    "execution": {
     "iopub.execute_input": "2024-03-13T08:57:39.677115Z",
     "iopub.status.busy": "2024-03-13T08:57:39.676842Z",
     "iopub.status.idle": "2024-03-13T08:57:39.700359Z",
     "shell.execute_reply": "2024-03-13T08:57:39.699496Z"
    },
    "papermill": {
     "duration": 0.048887,
     "end_time": "2024-03-13T08:57:39.702301",
     "exception": false,
     "start_time": "2024-03-13T08:57:39.653414",
     "status": "completed"
    },
    "tags": []
   },
   "outputs": [],
   "source": [
    "df['bhk'] = df['size'].str.split().str.get(0).astype(int)"
   ]
  },
  {
   "cell_type": "code",
   "execution_count": 19,
   "id": "30f05b77",
   "metadata": {
    "execution": {
     "iopub.execute_input": "2024-03-13T08:57:39.748668Z",
     "iopub.status.busy": "2024-03-13T08:57:39.748392Z",
     "iopub.status.idle": "2024-03-13T08:57:39.760910Z",
     "shell.execute_reply": "2024-03-13T08:57:39.760030Z"
    },
    "papermill": {
     "duration": 0.037761,
     "end_time": "2024-03-13T08:57:39.762804",
     "exception": false,
     "start_time": "2024-03-13T08:57:39.725043",
     "status": "completed"
    },
    "tags": []
   },
   "outputs": [
    {
     "data": {
      "text/html": [
       "<div>\n",
       "<style scoped>\n",
       "    .dataframe tbody tr th:only-of-type {\n",
       "        vertical-align: middle;\n",
       "    }\n",
       "\n",
       "    .dataframe tbody tr th {\n",
       "        vertical-align: top;\n",
       "    }\n",
       "\n",
       "    .dataframe thead th {\n",
       "        text-align: right;\n",
       "    }\n",
       "</style>\n",
       "<table border=\"1\" class=\"dataframe\">\n",
       "  <thead>\n",
       "    <tr style=\"text-align: right;\">\n",
       "      <th></th>\n",
       "      <th>location</th>\n",
       "      <th>size</th>\n",
       "      <th>total_sqft</th>\n",
       "      <th>bath</th>\n",
       "      <th>price</th>\n",
       "      <th>bhk</th>\n",
       "    </tr>\n",
       "  </thead>\n",
       "  <tbody>\n",
       "    <tr>\n",
       "      <th>1718</th>\n",
       "      <td>2Electronic City Phase II</td>\n",
       "      <td>27 BHK</td>\n",
       "      <td>8000</td>\n",
       "      <td>27.0</td>\n",
       "      <td>230.0</td>\n",
       "      <td>27</td>\n",
       "    </tr>\n",
       "    <tr>\n",
       "      <th>4684</th>\n",
       "      <td>Munnekollal</td>\n",
       "      <td>43 Bedroom</td>\n",
       "      <td>2400</td>\n",
       "      <td>40.0</td>\n",
       "      <td>660.0</td>\n",
       "      <td>43</td>\n",
       "    </tr>\n",
       "  </tbody>\n",
       "</table>\n",
       "</div>"
      ],
      "text/plain": [
       "                       location        size total_sqft  bath  price  bhk\n",
       "1718  2Electronic City Phase II      27 BHK       8000  27.0  230.0   27\n",
       "4684                Munnekollal  43 Bedroom       2400  40.0  660.0   43"
      ]
     },
     "execution_count": 19,
     "metadata": {},
     "output_type": "execute_result"
    }
   ],
   "source": [
    "df[df['bhk'] >=20]"
   ]
  },
  {
   "cell_type": "code",
   "execution_count": 20,
   "id": "4930ddd5",
   "metadata": {
    "execution": {
     "iopub.execute_input": "2024-03-13T08:57:39.809837Z",
     "iopub.status.busy": "2024-03-13T08:57:39.809567Z",
     "iopub.status.idle": "2024-03-13T08:57:39.816096Z",
     "shell.execute_reply": "2024-03-13T08:57:39.815263Z"
    },
    "papermill": {
     "duration": 0.032181,
     "end_time": "2024-03-13T08:57:39.817922",
     "exception": false,
     "start_time": "2024-03-13T08:57:39.785741",
     "status": "completed"
    },
    "tags": []
   },
   "outputs": [
    {
     "data": {
      "text/plain": [
       "array(['1056', '2600', '1440', ..., '1133 - 1384', '774', '4689'],\n",
       "      dtype=object)"
      ]
     },
     "execution_count": 20,
     "metadata": {},
     "output_type": "execute_result"
    }
   ],
   "source": [
    "df['total_sqft'].unique()"
   ]
  },
  {
   "cell_type": "code",
   "execution_count": 21,
   "id": "e0fbbd08",
   "metadata": {
    "execution": {
     "iopub.execute_input": "2024-03-13T08:57:39.864490Z",
     "iopub.status.busy": "2024-03-13T08:57:39.864210Z",
     "iopub.status.idle": "2024-03-13T08:57:39.869027Z",
     "shell.execute_reply": "2024-03-13T08:57:39.868198Z"
    },
    "papermill": {
     "duration": 0.030319,
     "end_time": "2024-03-13T08:57:39.870989",
     "exception": false,
     "start_time": "2024-03-13T08:57:39.840670",
     "status": "completed"
    },
    "tags": []
   },
   "outputs": [],
   "source": [
    "def total_sqft_convert_range(x):\n",
    "    temp = x.split('-')\n",
    "    if len(temp) == 2:\n",
    "        return (float(temp[0]) + float(temp[1]))/2\n",
    "    try:\n",
    "        return float(x)\n",
    "    except:\n",
    "        return None"
   ]
  },
  {
   "cell_type": "code",
   "execution_count": 22,
   "id": "d73081ce",
   "metadata": {
    "execution": {
     "iopub.execute_input": "2024-03-13T08:57:39.917953Z",
     "iopub.status.busy": "2024-03-13T08:57:39.917679Z",
     "iopub.status.idle": "2024-03-13T08:57:39.933101Z",
     "shell.execute_reply": "2024-03-13T08:57:39.932470Z"
    },
    "papermill": {
     "duration": 0.040875,
     "end_time": "2024-03-13T08:57:39.935017",
     "exception": false,
     "start_time": "2024-03-13T08:57:39.894142",
     "status": "completed"
    },
    "tags": []
   },
   "outputs": [],
   "source": [
    "df['total_sqft'] = df['total_sqft'].apply(total_sqft_convert_range)"
   ]
  },
  {
   "cell_type": "code",
   "execution_count": 23,
   "id": "fff9d6e1",
   "metadata": {
    "execution": {
     "iopub.execute_input": "2024-03-13T08:57:39.982136Z",
     "iopub.status.busy": "2024-03-13T08:57:39.981841Z",
     "iopub.status.idle": "2024-03-13T08:57:39.993130Z",
     "shell.execute_reply": "2024-03-13T08:57:39.992283Z"
    },
    "papermill": {
     "duration": 0.037145,
     "end_time": "2024-03-13T08:57:39.995069",
     "exception": false,
     "start_time": "2024-03-13T08:57:39.957924",
     "status": "completed"
    },
    "tags": []
   },
   "outputs": [
    {
     "data": {
      "text/html": [
       "<div>\n",
       "<style scoped>\n",
       "    .dataframe tbody tr th:only-of-type {\n",
       "        vertical-align: middle;\n",
       "    }\n",
       "\n",
       "    .dataframe tbody tr th {\n",
       "        vertical-align: top;\n",
       "    }\n",
       "\n",
       "    .dataframe thead th {\n",
       "        text-align: right;\n",
       "    }\n",
       "</style>\n",
       "<table border=\"1\" class=\"dataframe\">\n",
       "  <thead>\n",
       "    <tr style=\"text-align: right;\">\n",
       "      <th></th>\n",
       "      <th>location</th>\n",
       "      <th>size</th>\n",
       "      <th>total_sqft</th>\n",
       "      <th>bath</th>\n",
       "      <th>price</th>\n",
       "      <th>bhk</th>\n",
       "    </tr>\n",
       "  </thead>\n",
       "  <tbody>\n",
       "    <tr>\n",
       "      <th>0</th>\n",
       "      <td>Electronic City Phase II</td>\n",
       "      <td>2 BHK</td>\n",
       "      <td>1056.0</td>\n",
       "      <td>2.0</td>\n",
       "      <td>39.07</td>\n",
       "      <td>2</td>\n",
       "    </tr>\n",
       "    <tr>\n",
       "      <th>1</th>\n",
       "      <td>Chikka Tirupathi</td>\n",
       "      <td>4 Bedroom</td>\n",
       "      <td>2600.0</td>\n",
       "      <td>5.0</td>\n",
       "      <td>120.00</td>\n",
       "      <td>4</td>\n",
       "    </tr>\n",
       "    <tr>\n",
       "      <th>2</th>\n",
       "      <td>Uttarahalli</td>\n",
       "      <td>3 BHK</td>\n",
       "      <td>1440.0</td>\n",
       "      <td>2.0</td>\n",
       "      <td>62.00</td>\n",
       "      <td>3</td>\n",
       "    </tr>\n",
       "  </tbody>\n",
       "</table>\n",
       "</div>"
      ],
      "text/plain": [
       "                   location       size  total_sqft  bath   price  bhk\n",
       "0  Electronic City Phase II      2 BHK      1056.0   2.0   39.07    2\n",
       "1          Chikka Tirupathi  4 Bedroom      2600.0   5.0  120.00    4\n",
       "2               Uttarahalli      3 BHK      1440.0   2.0   62.00    3"
      ]
     },
     "execution_count": 23,
     "metadata": {},
     "output_type": "execute_result"
    }
   ],
   "source": [
    "df.head(3)"
   ]
  },
  {
   "cell_type": "code",
   "execution_count": 24,
   "id": "9db78ad3",
   "metadata": {
    "execution": {
     "iopub.execute_input": "2024-03-13T08:57:40.043053Z",
     "iopub.status.busy": "2024-03-13T08:57:40.042781Z",
     "iopub.status.idle": "2024-03-13T08:57:40.046465Z",
     "shell.execute_reply": "2024-03-13T08:57:40.045633Z"
    },
    "papermill": {
     "duration": 0.029654,
     "end_time": "2024-03-13T08:57:40.048206",
     "exception": false,
     "start_time": "2024-03-13T08:57:40.018552",
     "status": "completed"
    },
    "tags": []
   },
   "outputs": [],
   "source": [
    "# Price Per Square Feet"
   ]
  },
  {
   "cell_type": "code",
   "execution_count": 25,
   "id": "689f1280",
   "metadata": {
    "execution": {
     "iopub.execute_input": "2024-03-13T08:57:40.095792Z",
     "iopub.status.busy": "2024-03-13T08:57:40.095097Z",
     "iopub.status.idle": "2024-03-13T08:57:40.100208Z",
     "shell.execute_reply": "2024-03-13T08:57:40.099430Z"
    },
    "papermill": {
     "duration": 0.030774,
     "end_time": "2024-03-13T08:57:40.102149",
     "exception": false,
     "start_time": "2024-03-13T08:57:40.071375",
     "status": "completed"
    },
    "tags": []
   },
   "outputs": [],
   "source": [
    "df['price_per_sqft']  = 100000 * df['price'] / df['total_sqft']"
   ]
  },
  {
   "cell_type": "code",
   "execution_count": 26,
   "id": "1533ec36",
   "metadata": {
    "execution": {
     "iopub.execute_input": "2024-03-13T08:57:40.149243Z",
     "iopub.status.busy": "2024-03-13T08:57:40.148947Z",
     "iopub.status.idle": "2024-03-13T08:57:40.156069Z",
     "shell.execute_reply": "2024-03-13T08:57:40.155317Z"
    },
    "papermill": {
     "duration": 0.03283,
     "end_time": "2024-03-13T08:57:40.157984",
     "exception": false,
     "start_time": "2024-03-13T08:57:40.125154",
     "status": "completed"
    },
    "scrolled": true,
    "tags": []
   },
   "outputs": [
    {
     "data": {
      "text/plain": [
       "0         3699.810606\n",
       "1         4615.384615\n",
       "2         4305.555556\n",
       "3         6245.890861\n",
       "4         4250.000000\n",
       "             ...     \n",
       "13315     6689.834926\n",
       "13316    11111.111111\n",
       "13317     5258.545136\n",
       "13318    10407.336319\n",
       "13319     3090.909091\n",
       "Name: price_per_sqft, Length: 13320, dtype: float64"
      ]
     },
     "execution_count": 26,
     "metadata": {},
     "output_type": "execute_result"
    }
   ],
   "source": [
    "df['price_per_sqft']"
   ]
  },
  {
   "cell_type": "code",
   "execution_count": 27,
   "id": "9e4828e8",
   "metadata": {
    "execution": {
     "iopub.execute_input": "2024-03-13T08:57:40.205386Z",
     "iopub.status.busy": "2024-03-13T08:57:40.205045Z",
     "iopub.status.idle": "2024-03-13T08:57:40.228876Z",
     "shell.execute_reply": "2024-03-13T08:57:40.227995Z"
    },
    "papermill": {
     "duration": 0.049757,
     "end_time": "2024-03-13T08:57:40.230922",
     "exception": false,
     "start_time": "2024-03-13T08:57:40.181165",
     "status": "completed"
    },
    "tags": []
   },
   "outputs": [
    {
     "data": {
      "text/html": [
       "<div>\n",
       "<style scoped>\n",
       "    .dataframe tbody tr th:only-of-type {\n",
       "        vertical-align: middle;\n",
       "    }\n",
       "\n",
       "    .dataframe tbody tr th {\n",
       "        vertical-align: top;\n",
       "    }\n",
       "\n",
       "    .dataframe thead th {\n",
       "        text-align: right;\n",
       "    }\n",
       "</style>\n",
       "<table border=\"1\" class=\"dataframe\">\n",
       "  <thead>\n",
       "    <tr style=\"text-align: right;\">\n",
       "      <th></th>\n",
       "      <th>total_sqft</th>\n",
       "      <th>bath</th>\n",
       "      <th>price</th>\n",
       "      <th>bhk</th>\n",
       "      <th>price_per_sqft</th>\n",
       "    </tr>\n",
       "  </thead>\n",
       "  <tbody>\n",
       "    <tr>\n",
       "      <th>count</th>\n",
       "      <td>13274.000000</td>\n",
       "      <td>13320.000000</td>\n",
       "      <td>13320.000000</td>\n",
       "      <td>13320.000000</td>\n",
       "      <td>1.327400e+04</td>\n",
       "    </tr>\n",
       "    <tr>\n",
       "      <th>mean</th>\n",
       "      <td>1559.626694</td>\n",
       "      <td>2.688814</td>\n",
       "      <td>112.565627</td>\n",
       "      <td>2.802778</td>\n",
       "      <td>7.907501e+03</td>\n",
       "    </tr>\n",
       "    <tr>\n",
       "      <th>std</th>\n",
       "      <td>1238.405258</td>\n",
       "      <td>1.338754</td>\n",
       "      <td>148.971674</td>\n",
       "      <td>1.294496</td>\n",
       "      <td>1.064296e+05</td>\n",
       "    </tr>\n",
       "    <tr>\n",
       "      <th>min</th>\n",
       "      <td>1.000000</td>\n",
       "      <td>1.000000</td>\n",
       "      <td>8.000000</td>\n",
       "      <td>1.000000</td>\n",
       "      <td>2.678298e+02</td>\n",
       "    </tr>\n",
       "    <tr>\n",
       "      <th>25%</th>\n",
       "      <td>1100.000000</td>\n",
       "      <td>2.000000</td>\n",
       "      <td>50.000000</td>\n",
       "      <td>2.000000</td>\n",
       "      <td>4.266865e+03</td>\n",
       "    </tr>\n",
       "    <tr>\n",
       "      <th>50%</th>\n",
       "      <td>1276.000000</td>\n",
       "      <td>2.000000</td>\n",
       "      <td>72.000000</td>\n",
       "      <td>3.000000</td>\n",
       "      <td>5.434306e+03</td>\n",
       "    </tr>\n",
       "    <tr>\n",
       "      <th>75%</th>\n",
       "      <td>1680.000000</td>\n",
       "      <td>3.000000</td>\n",
       "      <td>120.000000</td>\n",
       "      <td>3.000000</td>\n",
       "      <td>7.311746e+03</td>\n",
       "    </tr>\n",
       "    <tr>\n",
       "      <th>max</th>\n",
       "      <td>52272.000000</td>\n",
       "      <td>40.000000</td>\n",
       "      <td>3600.000000</td>\n",
       "      <td>43.000000</td>\n",
       "      <td>1.200000e+07</td>\n",
       "    </tr>\n",
       "  </tbody>\n",
       "</table>\n",
       "</div>"
      ],
      "text/plain": [
       "         total_sqft          bath         price           bhk  price_per_sqft\n",
       "count  13274.000000  13320.000000  13320.000000  13320.000000    1.327400e+04\n",
       "mean    1559.626694      2.688814    112.565627      2.802778    7.907501e+03\n",
       "std     1238.405258      1.338754    148.971674      1.294496    1.064296e+05\n",
       "min        1.000000      1.000000      8.000000      1.000000    2.678298e+02\n",
       "25%     1100.000000      2.000000     50.000000      2.000000    4.266865e+03\n",
       "50%     1276.000000      2.000000     72.000000      3.000000    5.434306e+03\n",
       "75%     1680.000000      3.000000    120.000000      3.000000    7.311746e+03\n",
       "max    52272.000000     40.000000   3600.000000     43.000000    1.200000e+07"
      ]
     },
     "execution_count": 27,
     "metadata": {},
     "output_type": "execute_result"
    }
   ],
   "source": [
    "df.describe()"
   ]
  },
  {
   "cell_type": "code",
   "execution_count": 28,
   "id": "e8976a16",
   "metadata": {
    "execution": {
     "iopub.execute_input": "2024-03-13T08:57:40.279679Z",
     "iopub.status.busy": "2024-03-13T08:57:40.278844Z",
     "iopub.status.idle": "2024-03-13T08:57:40.288452Z",
     "shell.execute_reply": "2024-03-13T08:57:40.287605Z"
    },
    "papermill": {
     "duration": 0.035675,
     "end_time": "2024-03-13T08:57:40.290358",
     "exception": false,
     "start_time": "2024-03-13T08:57:40.254683",
     "status": "completed"
    },
    "tags": []
   },
   "outputs": [
    {
     "data": {
      "text/plain": [
       "Whitefield                        540\n",
       "Sarjapur  Road                    399\n",
       "Electronic City                   302\n",
       "Kanakpura Road                    273\n",
       "Thanisandra                       234\n",
       "                                 ... \n",
       "1st Stage Radha Krishna Layout      1\n",
       "BEML Layout 5th stage               1\n",
       "singapura paradise                  1\n",
       "Uvce Layout                         1\n",
       "Abshot Layout                       1\n",
       "Name: location, Length: 1306, dtype: int64"
      ]
     },
     "execution_count": 28,
     "metadata": {},
     "output_type": "execute_result"
    }
   ],
   "source": [
    "df['location'].value_counts()"
   ]
  },
  {
   "cell_type": "code",
   "execution_count": 29,
   "id": "e205bcad",
   "metadata": {
    "execution": {
     "iopub.execute_input": "2024-03-13T08:57:40.339613Z",
     "iopub.status.busy": "2024-03-13T08:57:40.339313Z",
     "iopub.status.idle": "2024-03-13T08:57:40.347592Z",
     "shell.execute_reply": "2024-03-13T08:57:40.346763Z"
    },
    "papermill": {
     "duration": 0.035314,
     "end_time": "2024-03-13T08:57:40.349503",
     "exception": false,
     "start_time": "2024-03-13T08:57:40.314189",
     "status": "completed"
    },
    "tags": []
   },
   "outputs": [],
   "source": [
    "df['location'] = df['location'].apply(lambda x : x.strip())"
   ]
  },
  {
   "cell_type": "code",
   "execution_count": 30,
   "id": "5419745b",
   "metadata": {
    "execution": {
     "iopub.execute_input": "2024-03-13T08:57:40.397613Z",
     "iopub.status.busy": "2024-03-13T08:57:40.397342Z",
     "iopub.status.idle": "2024-03-13T08:57:40.407727Z",
     "shell.execute_reply": "2024-03-13T08:57:40.406899Z"
    },
    "papermill": {
     "duration": 0.036514,
     "end_time": "2024-03-13T08:57:40.409526",
     "exception": false,
     "start_time": "2024-03-13T08:57:40.373012",
     "status": "completed"
    },
    "tags": []
   },
   "outputs": [
    {
     "data": {
      "text/plain": [
       "BTM 1st Stage                         10\n",
       "Nagadevanahalli                       10\n",
       "Basapura                              10\n",
       "Sector 1 HSR Layout                   10\n",
       "Dairy Circle                          10\n",
       "                                      ..\n",
       "1Channasandra                          1\n",
       "Hosahalli                              1\n",
       "Vijayabank bank layout                 1\n",
       "near Ramanashree California resort     1\n",
       "Abshot Layout                          1\n",
       "Name: location, Length: 1054, dtype: int64"
      ]
     },
     "execution_count": 30,
     "metadata": {},
     "output_type": "execute_result"
    }
   ],
   "source": [
    "location_count = df['location'].value_counts()\n",
    "\n",
    "location_count_less_than_10 = location_count[location_count <= 10]\n",
    "\n",
    "location_count_less_than_10"
   ]
  },
  {
   "cell_type": "code",
   "execution_count": 31,
   "id": "5eb4260f",
   "metadata": {
    "execution": {
     "iopub.execute_input": "2024-03-13T08:57:40.459332Z",
     "iopub.status.busy": "2024-03-13T08:57:40.459051Z",
     "iopub.status.idle": "2024-03-13T08:57:40.500305Z",
     "shell.execute_reply": "2024-03-13T08:57:40.499479Z"
    },
    "papermill": {
     "duration": 0.068923,
     "end_time": "2024-03-13T08:57:40.502335",
     "exception": false,
     "start_time": "2024-03-13T08:57:40.433412",
     "status": "completed"
    },
    "tags": []
   },
   "outputs": [],
   "source": [
    "df['location'] = df['location'].apply(lambda x : 'other' if x in location_count_less_than_10 else x)"
   ]
  },
  {
   "cell_type": "code",
   "execution_count": 32,
   "id": "d625a363",
   "metadata": {
    "execution": {
     "iopub.execute_input": "2024-03-13T08:57:40.550702Z",
     "iopub.status.busy": "2024-03-13T08:57:40.550444Z",
     "iopub.status.idle": "2024-03-13T08:57:40.559389Z",
     "shell.execute_reply": "2024-03-13T08:57:40.558513Z"
    },
    "papermill": {
     "duration": 0.035576,
     "end_time": "2024-03-13T08:57:40.561396",
     "exception": false,
     "start_time": "2024-03-13T08:57:40.525820",
     "status": "completed"
    },
    "tags": []
   },
   "outputs": [
    {
     "data": {
      "text/plain": [
       "other                 2886\n",
       "Whitefield             541\n",
       "Sarjapur  Road         399\n",
       "Electronic City        304\n",
       "Kanakpura Road         273\n",
       "                      ... \n",
       "Nehru Nagar             11\n",
       "Banjara Layout          11\n",
       "LB Shastri Nagar        11\n",
       "Pattandur Agrahara      11\n",
       "Narayanapura            11\n",
       "Name: location, Length: 242, dtype: int64"
      ]
     },
     "execution_count": 32,
     "metadata": {},
     "output_type": "execute_result"
    }
   ],
   "source": [
    "df['location'].value_counts()"
   ]
  },
  {
   "cell_type": "markdown",
   "id": "af004f04",
   "metadata": {
    "execution": {
     "iopub.execute_input": "2024-03-13T08:24:09.174754Z",
     "iopub.status.busy": "2024-03-13T08:24:09.174504Z",
     "iopub.status.idle": "2024-03-13T08:24:09.183024Z",
     "shell.execute_reply": "2024-03-13T08:24:09.182349Z",
     "shell.execute_reply.started": "2024-03-13T08:24:09.174732Z"
    },
    "papermill": {
     "duration": 0.023696,
     "end_time": "2024-03-13T08:57:40.608893",
     "exception": false,
     "start_time": "2024-03-13T08:57:40.585197",
     "status": "completed"
    },
    "tags": []
   },
   "source": [
    "# Outliers"
   ]
  },
  {
   "cell_type": "code",
   "execution_count": 33,
   "id": "53c7311a",
   "metadata": {
    "execution": {
     "iopub.execute_input": "2024-03-13T08:57:40.657473Z",
     "iopub.status.busy": "2024-03-13T08:57:40.657153Z",
     "iopub.status.idle": "2024-03-13T08:57:40.680458Z",
     "shell.execute_reply": "2024-03-13T08:57:40.679648Z"
    },
    "papermill": {
     "duration": 0.049851,
     "end_time": "2024-03-13T08:57:40.682548",
     "exception": false,
     "start_time": "2024-03-13T08:57:40.632697",
     "status": "completed"
    },
    "tags": []
   },
   "outputs": [
    {
     "data": {
      "text/html": [
       "<div>\n",
       "<style scoped>\n",
       "    .dataframe tbody tr th:only-of-type {\n",
       "        vertical-align: middle;\n",
       "    }\n",
       "\n",
       "    .dataframe tbody tr th {\n",
       "        vertical-align: top;\n",
       "    }\n",
       "\n",
       "    .dataframe thead th {\n",
       "        text-align: right;\n",
       "    }\n",
       "</style>\n",
       "<table border=\"1\" class=\"dataframe\">\n",
       "  <thead>\n",
       "    <tr style=\"text-align: right;\">\n",
       "      <th></th>\n",
       "      <th>total_sqft</th>\n",
       "      <th>bath</th>\n",
       "      <th>price</th>\n",
       "      <th>bhk</th>\n",
       "      <th>price_per_sqft</th>\n",
       "    </tr>\n",
       "  </thead>\n",
       "  <tbody>\n",
       "    <tr>\n",
       "      <th>count</th>\n",
       "      <td>13274.000000</td>\n",
       "      <td>13320.000000</td>\n",
       "      <td>13320.000000</td>\n",
       "      <td>13320.000000</td>\n",
       "      <td>1.327400e+04</td>\n",
       "    </tr>\n",
       "    <tr>\n",
       "      <th>mean</th>\n",
       "      <td>1559.626694</td>\n",
       "      <td>2.688814</td>\n",
       "      <td>112.565627</td>\n",
       "      <td>2.802778</td>\n",
       "      <td>7.907501e+03</td>\n",
       "    </tr>\n",
       "    <tr>\n",
       "      <th>std</th>\n",
       "      <td>1238.405258</td>\n",
       "      <td>1.338754</td>\n",
       "      <td>148.971674</td>\n",
       "      <td>1.294496</td>\n",
       "      <td>1.064296e+05</td>\n",
       "    </tr>\n",
       "    <tr>\n",
       "      <th>min</th>\n",
       "      <td>1.000000</td>\n",
       "      <td>1.000000</td>\n",
       "      <td>8.000000</td>\n",
       "      <td>1.000000</td>\n",
       "      <td>2.678298e+02</td>\n",
       "    </tr>\n",
       "    <tr>\n",
       "      <th>25%</th>\n",
       "      <td>1100.000000</td>\n",
       "      <td>2.000000</td>\n",
       "      <td>50.000000</td>\n",
       "      <td>2.000000</td>\n",
       "      <td>4.266865e+03</td>\n",
       "    </tr>\n",
       "    <tr>\n",
       "      <th>50%</th>\n",
       "      <td>1276.000000</td>\n",
       "      <td>2.000000</td>\n",
       "      <td>72.000000</td>\n",
       "      <td>3.000000</td>\n",
       "      <td>5.434306e+03</td>\n",
       "    </tr>\n",
       "    <tr>\n",
       "      <th>75%</th>\n",
       "      <td>1680.000000</td>\n",
       "      <td>3.000000</td>\n",
       "      <td>120.000000</td>\n",
       "      <td>3.000000</td>\n",
       "      <td>7.311746e+03</td>\n",
       "    </tr>\n",
       "    <tr>\n",
       "      <th>max</th>\n",
       "      <td>52272.000000</td>\n",
       "      <td>40.000000</td>\n",
       "      <td>3600.000000</td>\n",
       "      <td>43.000000</td>\n",
       "      <td>1.200000e+07</td>\n",
       "    </tr>\n",
       "  </tbody>\n",
       "</table>\n",
       "</div>"
      ],
      "text/plain": [
       "         total_sqft          bath         price           bhk  price_per_sqft\n",
       "count  13274.000000  13320.000000  13320.000000  13320.000000    1.327400e+04\n",
       "mean    1559.626694      2.688814    112.565627      2.802778    7.907501e+03\n",
       "std     1238.405258      1.338754    148.971674      1.294496    1.064296e+05\n",
       "min        1.000000      1.000000      8.000000      1.000000    2.678298e+02\n",
       "25%     1100.000000      2.000000     50.000000      2.000000    4.266865e+03\n",
       "50%     1276.000000      2.000000     72.000000      3.000000    5.434306e+03\n",
       "75%     1680.000000      3.000000    120.000000      3.000000    7.311746e+03\n",
       "max    52272.000000     40.000000   3600.000000     43.000000    1.200000e+07"
      ]
     },
     "execution_count": 33,
     "metadata": {},
     "output_type": "execute_result"
    }
   ],
   "source": [
    "df.describe()"
   ]
  },
  {
   "cell_type": "code",
   "execution_count": 34,
   "id": "77c5e17e",
   "metadata": {
    "execution": {
     "iopub.execute_input": "2024-03-13T08:57:40.732354Z",
     "iopub.status.busy": "2024-03-13T08:57:40.732081Z",
     "iopub.status.idle": "2024-03-13T08:57:40.741139Z",
     "shell.execute_reply": "2024-03-13T08:57:40.740364Z"
    },
    "papermill": {
     "duration": 0.03592,
     "end_time": "2024-03-13T08:57:40.743117",
     "exception": false,
     "start_time": "2024-03-13T08:57:40.707197",
     "status": "completed"
    },
    "tags": []
   },
   "outputs": [
    {
     "data": {
      "text/plain": [
       "count    13274.000000\n",
       "mean       575.074878\n",
       "std        388.205175\n",
       "min          0.250000\n",
       "25%        473.333333\n",
       "50%        552.500000\n",
       "75%        625.000000\n",
       "max      26136.000000\n",
       "dtype: float64"
      ]
     },
     "execution_count": 34,
     "metadata": {},
     "output_type": "execute_result"
    }
   ],
   "source": [
    "(df['total_sqft']/df['bhk']).describe()"
   ]
  },
  {
   "cell_type": "code",
   "execution_count": 35,
   "id": "1b0dd727",
   "metadata": {
    "execution": {
     "iopub.execute_input": "2024-03-13T08:57:40.792698Z",
     "iopub.status.busy": "2024-03-13T08:57:40.792419Z",
     "iopub.status.idle": "2024-03-13T08:57:40.798162Z",
     "shell.execute_reply": "2024-03-13T08:57:40.797500Z"
    },
    "papermill": {
     "duration": 0.032465,
     "end_time": "2024-03-13T08:57:40.800016",
     "exception": false,
     "start_time": "2024-03-13T08:57:40.767551",
     "status": "completed"
    },
    "tags": []
   },
   "outputs": [],
   "source": [
    "df = df[((df['total_sqft']/df['bhk']) >= 300)]"
   ]
  },
  {
   "cell_type": "code",
   "execution_count": 36,
   "id": "6092b5c2",
   "metadata": {
    "execution": {
     "iopub.execute_input": "2024-03-13T08:57:40.849349Z",
     "iopub.status.busy": "2024-03-13T08:57:40.849074Z",
     "iopub.status.idle": "2024-03-13T08:57:40.857875Z",
     "shell.execute_reply": "2024-03-13T08:57:40.857097Z"
    },
    "papermill": {
     "duration": 0.035558,
     "end_time": "2024-03-13T08:57:40.859749",
     "exception": false,
     "start_time": "2024-03-13T08:57:40.824191",
     "status": "completed"
    },
    "tags": []
   },
   "outputs": [
    {
     "data": {
      "text/plain": [
       "count     12530.000000\n",
       "mean       6303.979357\n",
       "std        4162.237981\n",
       "min         267.829813\n",
       "25%        4210.526316\n",
       "50%        5294.117647\n",
       "75%        6916.666667\n",
       "max      176470.588235\n",
       "Name: price_per_sqft, dtype: float64"
      ]
     },
     "execution_count": 36,
     "metadata": {},
     "output_type": "execute_result"
    }
   ],
   "source": [
    "df['price_per_sqft'].describe()"
   ]
  },
  {
   "cell_type": "code",
   "execution_count": 37,
   "id": "639a9570",
   "metadata": {
    "execution": {
     "iopub.execute_input": "2024-03-13T08:57:40.909265Z",
     "iopub.status.busy": "2024-03-13T08:57:40.908978Z",
     "iopub.status.idle": "2024-03-13T08:57:40.914331Z",
     "shell.execute_reply": "2024-03-13T08:57:40.913562Z"
    },
    "papermill": {
     "duration": 0.032249,
     "end_time": "2024-03-13T08:57:40.916175",
     "exception": false,
     "start_time": "2024-03-13T08:57:40.883926",
     "status": "completed"
    },
    "tags": []
   },
   "outputs": [],
   "source": [
    "def remove_outliers_in_sqft(data):\n",
    "    df_output =  pd.DataFrame()\n",
    "    for key, subdf in data.groupby('location'):\n",
    "        m = np.mean(subdf.price_per_sqft)\n",
    "        st = np.std(subdf.price_per_sqft)\n",
    "        gendf = subdf[(subdf['price_per_sqft'] > (m-st))& (subdf['price_per_sqft'] <= (m+st))]\n",
    "        df_output = pd.concat([df_output,gendf],ignore_index = True)\n",
    "    return df_output"
   ]
  },
  {
   "cell_type": "code",
   "execution_count": 38,
   "id": "6b586a6a",
   "metadata": {
    "execution": {
     "iopub.execute_input": "2024-03-13T08:57:40.965484Z",
     "iopub.status.busy": "2024-03-13T08:57:40.965229Z",
     "iopub.status.idle": "2024-03-13T08:57:41.273232Z",
     "shell.execute_reply": "2024-03-13T08:57:41.272268Z"
    },
    "papermill": {
     "duration": 0.33521,
     "end_time": "2024-03-13T08:57:41.275530",
     "exception": false,
     "start_time": "2024-03-13T08:57:40.940320",
     "status": "completed"
    },
    "tags": []
   },
   "outputs": [],
   "source": [
    "df = remove_outliers_in_sqft(df)"
   ]
  },
  {
   "cell_type": "code",
   "execution_count": 39,
   "id": "da8ebf4f",
   "metadata": {
    "execution": {
     "iopub.execute_input": "2024-03-13T08:57:41.325916Z",
     "iopub.status.busy": "2024-03-13T08:57:41.325624Z",
     "iopub.status.idle": "2024-03-13T08:57:41.348391Z",
     "shell.execute_reply": "2024-03-13T08:57:41.347560Z"
    },
    "papermill": {
     "duration": 0.05014,
     "end_time": "2024-03-13T08:57:41.350413",
     "exception": false,
     "start_time": "2024-03-13T08:57:41.300273",
     "status": "completed"
    },
    "tags": []
   },
   "outputs": [
    {
     "data": {
      "text/html": [
       "<div>\n",
       "<style scoped>\n",
       "    .dataframe tbody tr th:only-of-type {\n",
       "        vertical-align: middle;\n",
       "    }\n",
       "\n",
       "    .dataframe tbody tr th {\n",
       "        vertical-align: top;\n",
       "    }\n",
       "\n",
       "    .dataframe thead th {\n",
       "        text-align: right;\n",
       "    }\n",
       "</style>\n",
       "<table border=\"1\" class=\"dataframe\">\n",
       "  <thead>\n",
       "    <tr style=\"text-align: right;\">\n",
       "      <th></th>\n",
       "      <th>total_sqft</th>\n",
       "      <th>bath</th>\n",
       "      <th>price</th>\n",
       "      <th>bhk</th>\n",
       "      <th>price_per_sqft</th>\n",
       "    </tr>\n",
       "  </thead>\n",
       "  <tbody>\n",
       "    <tr>\n",
       "      <th>count</th>\n",
       "      <td>10301.000000</td>\n",
       "      <td>10301.000000</td>\n",
       "      <td>10301.000000</td>\n",
       "      <td>10301.000000</td>\n",
       "      <td>10301.000000</td>\n",
       "    </tr>\n",
       "    <tr>\n",
       "      <th>mean</th>\n",
       "      <td>1508.440608</td>\n",
       "      <td>2.471702</td>\n",
       "      <td>91.286372</td>\n",
       "      <td>2.574896</td>\n",
       "      <td>5659.062876</td>\n",
       "    </tr>\n",
       "    <tr>\n",
       "      <th>std</th>\n",
       "      <td>880.694214</td>\n",
       "      <td>0.979449</td>\n",
       "      <td>86.342786</td>\n",
       "      <td>0.897649</td>\n",
       "      <td>2265.774749</td>\n",
       "    </tr>\n",
       "    <tr>\n",
       "      <th>min</th>\n",
       "      <td>300.000000</td>\n",
       "      <td>1.000000</td>\n",
       "      <td>10.000000</td>\n",
       "      <td>1.000000</td>\n",
       "      <td>1250.000000</td>\n",
       "    </tr>\n",
       "    <tr>\n",
       "      <th>25%</th>\n",
       "      <td>1110.000000</td>\n",
       "      <td>2.000000</td>\n",
       "      <td>49.000000</td>\n",
       "      <td>2.000000</td>\n",
       "      <td>4244.897959</td>\n",
       "    </tr>\n",
       "    <tr>\n",
       "      <th>50%</th>\n",
       "      <td>1286.000000</td>\n",
       "      <td>2.000000</td>\n",
       "      <td>67.000000</td>\n",
       "      <td>2.000000</td>\n",
       "      <td>5175.600739</td>\n",
       "    </tr>\n",
       "    <tr>\n",
       "      <th>75%</th>\n",
       "      <td>1650.000000</td>\n",
       "      <td>3.000000</td>\n",
       "      <td>100.000000</td>\n",
       "      <td>3.000000</td>\n",
       "      <td>6428.571429</td>\n",
       "    </tr>\n",
       "    <tr>\n",
       "      <th>max</th>\n",
       "      <td>30400.000000</td>\n",
       "      <td>16.000000</td>\n",
       "      <td>2200.000000</td>\n",
       "      <td>16.000000</td>\n",
       "      <td>24509.803922</td>\n",
       "    </tr>\n",
       "  </tbody>\n",
       "</table>\n",
       "</div>"
      ],
      "text/plain": [
       "         total_sqft          bath         price           bhk  price_per_sqft\n",
       "count  10301.000000  10301.000000  10301.000000  10301.000000    10301.000000\n",
       "mean    1508.440608      2.471702     91.286372      2.574896     5659.062876\n",
       "std      880.694214      0.979449     86.342786      0.897649     2265.774749\n",
       "min      300.000000      1.000000     10.000000      1.000000     1250.000000\n",
       "25%     1110.000000      2.000000     49.000000      2.000000     4244.897959\n",
       "50%     1286.000000      2.000000     67.000000      2.000000     5175.600739\n",
       "75%     1650.000000      3.000000    100.000000      3.000000     6428.571429\n",
       "max    30400.000000     16.000000   2200.000000     16.000000    24509.803922"
      ]
     },
     "execution_count": 39,
     "metadata": {},
     "output_type": "execute_result"
    }
   ],
   "source": [
    "df.describe()"
   ]
  },
  {
   "cell_type": "code",
   "execution_count": 40,
   "id": "373a36dc",
   "metadata": {
    "execution": {
     "iopub.execute_input": "2024-03-13T08:57:41.402101Z",
     "iopub.status.busy": "2024-03-13T08:57:41.401475Z",
     "iopub.status.idle": "2024-03-13T08:57:41.408414Z",
     "shell.execute_reply": "2024-03-13T08:57:41.407574Z"
    },
    "papermill": {
     "duration": 0.034849,
     "end_time": "2024-03-13T08:57:41.410296",
     "exception": false,
     "start_time": "2024-03-13T08:57:41.375447",
     "status": "completed"
    },
    "tags": []
   },
   "outputs": [],
   "source": [
    "def remove_outliers_in_bhk(data):\n",
    "    exclude_indices = np.array([])\n",
    "    for location,location_data in data.groupby('location'):\n",
    "        bhk_stats ={}\n",
    "        for bhk, bhk_data in location_data.groupby('bhk'):\n",
    "            bhk_stats[bhk] = {\n",
    "                'mean' : np.mean(bhk_data['price_per_sqft']),\n",
    "                'std' : np.std(bhk_data['price_per_sqft']),\n",
    "                'count': bhk_data.shape[0]\n",
    "            }\n",
    "        for bhk,bhk_data in location_data.groupby('bhk'):\n",
    "            stats = bhk_stats.get(bhk-1)\n",
    "            if stats and stats['count'] > 5:\n",
    "                exclude_indices = np.append(exclude_indices,bhk_data[bhk_data['price_per_sqft']< (stats['mean'])].index.values)\n",
    "    return data.drop(exclude_indices, axis = 'index')"
   ]
  },
  {
   "cell_type": "code",
   "execution_count": 41,
   "id": "3a2da6c8",
   "metadata": {
    "execution": {
     "iopub.execute_input": "2024-03-13T08:57:41.461380Z",
     "iopub.status.busy": "2024-03-13T08:57:41.461092Z",
     "iopub.status.idle": "2024-03-13T08:57:42.017180Z",
     "shell.execute_reply": "2024-03-13T08:57:42.016275Z"
    },
    "papermill": {
     "duration": 0.584867,
     "end_time": "2024-03-13T08:57:42.019561",
     "exception": false,
     "start_time": "2024-03-13T08:57:41.434694",
     "status": "completed"
    },
    "tags": []
   },
   "outputs": [],
   "source": [
    "df = remove_outliers_in_bhk(df)"
   ]
  },
  {
   "cell_type": "code",
   "execution_count": 42,
   "id": "7461d04a",
   "metadata": {
    "execution": {
     "iopub.execute_input": "2024-03-13T08:57:42.070816Z",
     "iopub.status.busy": "2024-03-13T08:57:42.070096Z",
     "iopub.status.idle": "2024-03-13T08:57:42.090393Z",
     "shell.execute_reply": "2024-03-13T08:57:42.089467Z"
    },
    "papermill": {
     "duration": 0.047864,
     "end_time": "2024-03-13T08:57:42.092466",
     "exception": false,
     "start_time": "2024-03-13T08:57:42.044602",
     "status": "completed"
    },
    "tags": []
   },
   "outputs": [
    {
     "data": {
      "text/html": [
       "<div>\n",
       "<style scoped>\n",
       "    .dataframe tbody tr th:only-of-type {\n",
       "        vertical-align: middle;\n",
       "    }\n",
       "\n",
       "    .dataframe tbody tr th {\n",
       "        vertical-align: top;\n",
       "    }\n",
       "\n",
       "    .dataframe thead th {\n",
       "        text-align: right;\n",
       "    }\n",
       "</style>\n",
       "<table border=\"1\" class=\"dataframe\">\n",
       "  <thead>\n",
       "    <tr style=\"text-align: right;\">\n",
       "      <th></th>\n",
       "      <th>total_sqft</th>\n",
       "      <th>bath</th>\n",
       "      <th>price</th>\n",
       "      <th>bhk</th>\n",
       "      <th>price_per_sqft</th>\n",
       "    </tr>\n",
       "  </thead>\n",
       "  <tbody>\n",
       "    <tr>\n",
       "      <th>count</th>\n",
       "      <td>7361.000000</td>\n",
       "      <td>7361.000000</td>\n",
       "      <td>7361.000000</td>\n",
       "      <td>7361.000000</td>\n",
       "      <td>7361.000000</td>\n",
       "    </tr>\n",
       "    <tr>\n",
       "      <th>mean</th>\n",
       "      <td>1496.942529</td>\n",
       "      <td>2.448173</td>\n",
       "      <td>99.093113</td>\n",
       "      <td>2.500611</td>\n",
       "      <td>6127.640136</td>\n",
       "    </tr>\n",
       "    <tr>\n",
       "      <th>std</th>\n",
       "      <td>865.781990</td>\n",
       "      <td>1.011515</td>\n",
       "      <td>93.336841</td>\n",
       "      <td>0.929312</td>\n",
       "      <td>2408.997210</td>\n",
       "    </tr>\n",
       "    <tr>\n",
       "      <th>min</th>\n",
       "      <td>300.000000</td>\n",
       "      <td>1.000000</td>\n",
       "      <td>10.000000</td>\n",
       "      <td>1.000000</td>\n",
       "      <td>1300.000000</td>\n",
       "    </tr>\n",
       "    <tr>\n",
       "      <th>25%</th>\n",
       "      <td>1096.000000</td>\n",
       "      <td>2.000000</td>\n",
       "      <td>50.000000</td>\n",
       "      <td>2.000000</td>\n",
       "      <td>4600.000000</td>\n",
       "    </tr>\n",
       "    <tr>\n",
       "      <th>50%</th>\n",
       "      <td>1260.000000</td>\n",
       "      <td>2.000000</td>\n",
       "      <td>73.200000</td>\n",
       "      <td>2.000000</td>\n",
       "      <td>5680.000000</td>\n",
       "    </tr>\n",
       "    <tr>\n",
       "      <th>75%</th>\n",
       "      <td>1680.000000</td>\n",
       "      <td>3.000000</td>\n",
       "      <td>113.000000</td>\n",
       "      <td>3.000000</td>\n",
       "      <td>6896.551724</td>\n",
       "    </tr>\n",
       "    <tr>\n",
       "      <th>max</th>\n",
       "      <td>30000.000000</td>\n",
       "      <td>16.000000</td>\n",
       "      <td>2200.000000</td>\n",
       "      <td>16.000000</td>\n",
       "      <td>24509.803922</td>\n",
       "    </tr>\n",
       "  </tbody>\n",
       "</table>\n",
       "</div>"
      ],
      "text/plain": [
       "         total_sqft         bath        price          bhk  price_per_sqft\n",
       "count   7361.000000  7361.000000  7361.000000  7361.000000     7361.000000\n",
       "mean    1496.942529     2.448173    99.093113     2.500611     6127.640136\n",
       "std      865.781990     1.011515    93.336841     0.929312     2408.997210\n",
       "min      300.000000     1.000000    10.000000     1.000000     1300.000000\n",
       "25%     1096.000000     2.000000    50.000000     2.000000     4600.000000\n",
       "50%     1260.000000     2.000000    73.200000     2.000000     5680.000000\n",
       "75%     1680.000000     3.000000   113.000000     3.000000     6896.551724\n",
       "max    30000.000000    16.000000  2200.000000    16.000000    24509.803922"
      ]
     },
     "execution_count": 42,
     "metadata": {},
     "output_type": "execute_result"
    }
   ],
   "source": [
    "df.describe()"
   ]
  },
  {
   "cell_type": "code",
   "execution_count": 43,
   "id": "02e965d7",
   "metadata": {
    "execution": {
     "iopub.execute_input": "2024-03-13T08:57:42.143298Z",
     "iopub.status.busy": "2024-03-13T08:57:42.142979Z",
     "iopub.status.idle": "2024-03-13T08:57:42.155040Z",
     "shell.execute_reply": "2024-03-13T08:57:42.154262Z"
    },
    "papermill": {
     "duration": 0.040057,
     "end_time": "2024-03-13T08:57:42.157199",
     "exception": false,
     "start_time": "2024-03-13T08:57:42.117142",
     "status": "completed"
    },
    "tags": []
   },
   "outputs": [
    {
     "data": {
      "text/html": [
       "<div>\n",
       "<style scoped>\n",
       "    .dataframe tbody tr th:only-of-type {\n",
       "        vertical-align: middle;\n",
       "    }\n",
       "\n",
       "    .dataframe tbody tr th {\n",
       "        vertical-align: top;\n",
       "    }\n",
       "\n",
       "    .dataframe thead th {\n",
       "        text-align: right;\n",
       "    }\n",
       "</style>\n",
       "<table border=\"1\" class=\"dataframe\">\n",
       "  <thead>\n",
       "    <tr style=\"text-align: right;\">\n",
       "      <th></th>\n",
       "      <th>location</th>\n",
       "      <th>size</th>\n",
       "      <th>total_sqft</th>\n",
       "      <th>bath</th>\n",
       "      <th>price</th>\n",
       "      <th>bhk</th>\n",
       "      <th>price_per_sqft</th>\n",
       "    </tr>\n",
       "  </thead>\n",
       "  <tbody>\n",
       "    <tr>\n",
       "      <th>0</th>\n",
       "      <td>1st Block Jayanagar</td>\n",
       "      <td>4 BHK</td>\n",
       "      <td>2850.0</td>\n",
       "      <td>4.0</td>\n",
       "      <td>428.0</td>\n",
       "      <td>4</td>\n",
       "      <td>15017.543860</td>\n",
       "    </tr>\n",
       "    <tr>\n",
       "      <th>1</th>\n",
       "      <td>1st Block Jayanagar</td>\n",
       "      <td>3 BHK</td>\n",
       "      <td>1630.0</td>\n",
       "      <td>3.0</td>\n",
       "      <td>194.0</td>\n",
       "      <td>3</td>\n",
       "      <td>11901.840491</td>\n",
       "    </tr>\n",
       "    <tr>\n",
       "      <th>2</th>\n",
       "      <td>1st Block Jayanagar</td>\n",
       "      <td>3 BHK</td>\n",
       "      <td>1875.0</td>\n",
       "      <td>2.0</td>\n",
       "      <td>235.0</td>\n",
       "      <td>3</td>\n",
       "      <td>12533.333333</td>\n",
       "    </tr>\n",
       "  </tbody>\n",
       "</table>\n",
       "</div>"
      ],
      "text/plain": [
       "              location   size  total_sqft  bath  price  bhk  price_per_sqft\n",
       "0  1st Block Jayanagar  4 BHK      2850.0   4.0  428.0    4    15017.543860\n",
       "1  1st Block Jayanagar  3 BHK      1630.0   3.0  194.0    3    11901.840491\n",
       "2  1st Block Jayanagar  3 BHK      1875.0   2.0  235.0    3    12533.333333"
      ]
     },
     "execution_count": 43,
     "metadata": {},
     "output_type": "execute_result"
    }
   ],
   "source": [
    "df.head(3)"
   ]
  },
  {
   "cell_type": "code",
   "execution_count": 44,
   "id": "68c5f8e4",
   "metadata": {
    "execution": {
     "iopub.execute_input": "2024-03-13T08:57:42.208602Z",
     "iopub.status.busy": "2024-03-13T08:57:42.208343Z",
     "iopub.status.idle": "2024-03-13T08:57:42.213446Z",
     "shell.execute_reply": "2024-03-13T08:57:42.212633Z"
    },
    "papermill": {
     "duration": 0.032679,
     "end_time": "2024-03-13T08:57:42.215312",
     "exception": false,
     "start_time": "2024-03-13T08:57:42.182633",
     "status": "completed"
    },
    "tags": []
   },
   "outputs": [],
   "source": [
    "df.drop(columns = ['size', 'price_per_sqft'], inplace = True)"
   ]
  },
  {
   "cell_type": "markdown",
   "id": "7170b005",
   "metadata": {
    "papermill": {
     "duration": 0.024525,
     "end_time": "2024-03-13T08:57:42.264694",
     "exception": false,
     "start_time": "2024-03-13T08:57:42.240169",
     "status": "completed"
    },
    "tags": []
   },
   "source": [
    "# Clean Data"
   ]
  },
  {
   "cell_type": "code",
   "execution_count": 45,
   "id": "f05c932b",
   "metadata": {
    "execution": {
     "iopub.execute_input": "2024-03-13T08:57:42.315626Z",
     "iopub.status.busy": "2024-03-13T08:57:42.315321Z",
     "iopub.status.idle": "2024-03-13T08:57:42.325609Z",
     "shell.execute_reply": "2024-03-13T08:57:42.324780Z"
    },
    "papermill": {
     "duration": 0.037863,
     "end_time": "2024-03-13T08:57:42.327565",
     "exception": false,
     "start_time": "2024-03-13T08:57:42.289702",
     "status": "completed"
    },
    "tags": []
   },
   "outputs": [
    {
     "data": {
      "text/html": [
       "<div>\n",
       "<style scoped>\n",
       "    .dataframe tbody tr th:only-of-type {\n",
       "        vertical-align: middle;\n",
       "    }\n",
       "\n",
       "    .dataframe tbody tr th {\n",
       "        vertical-align: top;\n",
       "    }\n",
       "\n",
       "    .dataframe thead th {\n",
       "        text-align: right;\n",
       "    }\n",
       "</style>\n",
       "<table border=\"1\" class=\"dataframe\">\n",
       "  <thead>\n",
       "    <tr style=\"text-align: right;\">\n",
       "      <th></th>\n",
       "      <th>location</th>\n",
       "      <th>total_sqft</th>\n",
       "      <th>bath</th>\n",
       "      <th>price</th>\n",
       "      <th>bhk</th>\n",
       "    </tr>\n",
       "  </thead>\n",
       "  <tbody>\n",
       "    <tr>\n",
       "      <th>0</th>\n",
       "      <td>1st Block Jayanagar</td>\n",
       "      <td>2850.0</td>\n",
       "      <td>4.0</td>\n",
       "      <td>428.0</td>\n",
       "      <td>4</td>\n",
       "    </tr>\n",
       "    <tr>\n",
       "      <th>1</th>\n",
       "      <td>1st Block Jayanagar</td>\n",
       "      <td>1630.0</td>\n",
       "      <td>3.0</td>\n",
       "      <td>194.0</td>\n",
       "      <td>3</td>\n",
       "    </tr>\n",
       "  </tbody>\n",
       "</table>\n",
       "</div>"
      ],
      "text/plain": [
       "              location  total_sqft  bath  price  bhk\n",
       "0  1st Block Jayanagar      2850.0   4.0  428.0    4\n",
       "1  1st Block Jayanagar      1630.0   3.0  194.0    3"
      ]
     },
     "execution_count": 45,
     "metadata": {},
     "output_type": "execute_result"
    }
   ],
   "source": [
    "df.head(2)"
   ]
  },
  {
   "cell_type": "code",
   "execution_count": 46,
   "id": "b0f7a7fa",
   "metadata": {
    "execution": {
     "iopub.execute_input": "2024-03-13T08:57:42.379632Z",
     "iopub.status.busy": "2024-03-13T08:57:42.379362Z",
     "iopub.status.idle": "2024-03-13T08:57:42.384312Z",
     "shell.execute_reply": "2024-03-13T08:57:42.383560Z"
    },
    "papermill": {
     "duration": 0.032854,
     "end_time": "2024-03-13T08:57:42.386160",
     "exception": false,
     "start_time": "2024-03-13T08:57:42.353306",
     "status": "completed"
    },
    "tags": []
   },
   "outputs": [],
   "source": [
    "X = df.drop(columns = ['price'])\n",
    "y = df['price']"
   ]
  },
  {
   "cell_type": "code",
   "execution_count": 47,
   "id": "8a22c442",
   "metadata": {
    "execution": {
     "iopub.execute_input": "2024-03-13T08:57:42.445840Z",
     "iopub.status.busy": "2024-03-13T08:57:42.445080Z",
     "iopub.status.idle": "2024-03-13T08:57:43.850177Z",
     "shell.execute_reply": "2024-03-13T08:57:43.849416Z"
    },
    "papermill": {
     "duration": 1.440759,
     "end_time": "2024-03-13T08:57:43.852511",
     "exception": false,
     "start_time": "2024-03-13T08:57:42.411752",
     "status": "completed"
    },
    "tags": []
   },
   "outputs": [],
   "source": [
    "from sklearn.model_selection import train_test_split, GridSearchCV\n",
    "from sklearn.linear_model import LinearRegression, Lasso, Ridge\n",
    "from sklearn.ensemble import RandomForestRegressor\n",
    "from sklearn.preprocessing import StandardScaler, OneHotEncoder\n",
    "from sklearn.compose import make_column_transformer\n",
    "from sklearn.pipeline import make_pipeline\n",
    "from sklearn.metrics import r2_score"
   ]
  },
  {
   "cell_type": "markdown",
   "id": "be5684f9",
   "metadata": {
    "papermill": {
     "duration": 0.026908,
     "end_time": "2024-03-13T08:57:43.905435",
     "exception": false,
     "start_time": "2024-03-13T08:57:43.878527",
     "status": "completed"
    },
    "tags": []
   },
   "source": [
    "# Applying Linear Regression"
   ]
  },
  {
   "cell_type": "code",
   "execution_count": 48,
   "id": "4c3e0ab4",
   "metadata": {
    "execution": {
     "iopub.execute_input": "2024-03-13T08:57:43.957084Z",
     "iopub.status.busy": "2024-03-13T08:57:43.956622Z",
     "iopub.status.idle": "2024-03-13T08:57:43.965171Z",
     "shell.execute_reply": "2024-03-13T08:57:43.964497Z"
    },
    "papermill": {
     "duration": 0.036458,
     "end_time": "2024-03-13T08:57:43.966982",
     "exception": false,
     "start_time": "2024-03-13T08:57:43.930524",
     "status": "completed"
    },
    "tags": []
   },
   "outputs": [],
   "source": [
    "X_train,X_test,y_train,y_test = train_test_split(X,y,test_size = 0.2, random_state = 0)"
   ]
  },
  {
   "cell_type": "code",
   "execution_count": 49,
   "id": "81cccc74",
   "metadata": {
    "execution": {
     "iopub.execute_input": "2024-03-13T08:57:44.017930Z",
     "iopub.status.busy": "2024-03-13T08:57:44.017685Z",
     "iopub.status.idle": "2024-03-13T08:57:44.021976Z",
     "shell.execute_reply": "2024-03-13T08:57:44.021150Z"
    },
    "papermill": {
     "duration": 0.03211,
     "end_time": "2024-03-13T08:57:44.024080",
     "exception": false,
     "start_time": "2024-03-13T08:57:43.991970",
     "status": "completed"
    },
    "tags": []
   },
   "outputs": [
    {
     "name": "stdout",
     "output_type": "stream",
     "text": [
      "(5888, 4)\n",
      "(1473, 4)\n"
     ]
    }
   ],
   "source": [
    "print(X_train.shape)\n",
    "print(X_test.shape)"
   ]
  },
  {
   "cell_type": "code",
   "execution_count": 50,
   "id": "3bfad9bb",
   "metadata": {
    "execution": {
     "iopub.execute_input": "2024-03-13T08:57:44.075120Z",
     "iopub.status.busy": "2024-03-13T08:57:44.074852Z",
     "iopub.status.idle": "2024-03-13T08:57:44.078943Z",
     "shell.execute_reply": "2024-03-13T08:57:44.078196Z"
    },
    "papermill": {
     "duration": 0.031673,
     "end_time": "2024-03-13T08:57:44.080771",
     "exception": false,
     "start_time": "2024-03-13T08:57:44.049098",
     "status": "completed"
    },
    "tags": []
   },
   "outputs": [],
   "source": [
    "col_trans = make_column_transformer((OneHotEncoder(sparse = False),\n",
    "                                ['location']),\n",
    "                               remainder = 'passthrough')"
   ]
  },
  {
   "cell_type": "code",
   "execution_count": 51,
   "id": "88f5ba1b",
   "metadata": {
    "execution": {
     "iopub.execute_input": "2024-03-13T08:57:44.133703Z",
     "iopub.status.busy": "2024-03-13T08:57:44.133114Z",
     "iopub.status.idle": "2024-03-13T08:57:44.137124Z",
     "shell.execute_reply": "2024-03-13T08:57:44.136256Z"
    },
    "papermill": {
     "duration": 0.033057,
     "end_time": "2024-03-13T08:57:44.139108",
     "exception": false,
     "start_time": "2024-03-13T08:57:44.106051",
     "status": "completed"
    },
    "tags": []
   },
   "outputs": [],
   "source": [
    "scaler = StandardScaler()\n",
    "lr = LinearRegression()"
   ]
  },
  {
   "cell_type": "code",
   "execution_count": 52,
   "id": "37286a02",
   "metadata": {
    "execution": {
     "iopub.execute_input": "2024-03-13T08:57:44.191576Z",
     "iopub.status.busy": "2024-03-13T08:57:44.191049Z",
     "iopub.status.idle": "2024-03-13T08:57:44.195202Z",
     "shell.execute_reply": "2024-03-13T08:57:44.194157Z"
    },
    "papermill": {
     "duration": 0.032465,
     "end_time": "2024-03-13T08:57:44.197329",
     "exception": false,
     "start_time": "2024-03-13T08:57:44.164864",
     "status": "completed"
    },
    "tags": []
   },
   "outputs": [],
   "source": [
    "pipe = make_pipeline(col_trans,scaler,lr)"
   ]
  },
  {
   "cell_type": "code",
   "execution_count": 53,
   "id": "41db9a77",
   "metadata": {
    "execution": {
     "iopub.execute_input": "2024-03-13T08:57:44.249412Z",
     "iopub.status.busy": "2024-03-13T08:57:44.249036Z",
     "iopub.status.idle": "2024-03-13T08:57:44.415615Z",
     "shell.execute_reply": "2024-03-13T08:57:44.414292Z"
    },
    "papermill": {
     "duration": 0.196919,
     "end_time": "2024-03-13T08:57:44.419711",
     "exception": false,
     "start_time": "2024-03-13T08:57:44.222792",
     "status": "completed"
    },
    "tags": []
   },
   "outputs": [
    {
     "data": {
      "text/plain": [
       "Pipeline(steps=[('columntransformer',\n",
       "                 ColumnTransformer(remainder='passthrough',\n",
       "                                   transformers=[('onehotencoder',\n",
       "                                                  OneHotEncoder(sparse=False),\n",
       "                                                  ['location'])])),\n",
       "                ('standardscaler', StandardScaler()),\n",
       "                ('linearregression', LinearRegression())])"
      ]
     },
     "execution_count": 53,
     "metadata": {},
     "output_type": "execute_result"
    }
   ],
   "source": [
    "pipe.fit(X_train,y_train)"
   ]
  },
  {
   "cell_type": "code",
   "execution_count": 54,
   "id": "d1287451",
   "metadata": {
    "execution": {
     "iopub.execute_input": "2024-03-13T08:57:44.523263Z",
     "iopub.status.busy": "2024-03-13T08:57:44.522915Z",
     "iopub.status.idle": "2024-03-13T08:57:44.536146Z",
     "shell.execute_reply": "2024-03-13T08:57:44.535007Z"
    },
    "papermill": {
     "duration": 0.063902,
     "end_time": "2024-03-13T08:57:44.541699",
     "exception": false,
     "start_time": "2024-03-13T08:57:44.477797",
     "status": "completed"
    },
    "tags": []
   },
   "outputs": [],
   "source": [
    "y_pred_lr = pipe.predict(X_test)"
   ]
  },
  {
   "cell_type": "code",
   "execution_count": 55,
   "id": "510df326",
   "metadata": {
    "execution": {
     "iopub.execute_input": "2024-03-13T08:57:44.652379Z",
     "iopub.status.busy": "2024-03-13T08:57:44.651837Z",
     "iopub.status.idle": "2024-03-13T08:57:44.661430Z",
     "shell.execute_reply": "2024-03-13T08:57:44.660258Z"
    },
    "papermill": {
     "duration": 0.068483,
     "end_time": "2024-03-13T08:57:44.664561",
     "exception": false,
     "start_time": "2024-03-13T08:57:44.596078",
     "status": "completed"
    },
    "tags": []
   },
   "outputs": [
    {
     "data": {
      "text/plain": [
       "0.8233319198743454"
      ]
     },
     "execution_count": 55,
     "metadata": {},
     "output_type": "execute_result"
    }
   ],
   "source": [
    "r2_score(y_test,y_pred_lr)"
   ]
  },
  {
   "cell_type": "markdown",
   "id": "8ef7467b",
   "metadata": {
    "papermill": {
     "duration": 0.025573,
     "end_time": "2024-03-13T08:57:44.717354",
     "exception": false,
     "start_time": "2024-03-13T08:57:44.691781",
     "status": "completed"
    },
    "tags": []
   },
   "source": [
    "# Applying Lasso"
   ]
  },
  {
   "cell_type": "code",
   "execution_count": 56,
   "id": "ca74ea56",
   "metadata": {
    "execution": {
     "iopub.execute_input": "2024-03-13T08:57:44.770086Z",
     "iopub.status.busy": "2024-03-13T08:57:44.769774Z",
     "iopub.status.idle": "2024-03-13T08:57:44.773736Z",
     "shell.execute_reply": "2024-03-13T08:57:44.772910Z"
    },
    "papermill": {
     "duration": 0.032624,
     "end_time": "2024-03-13T08:57:44.775612",
     "exception": false,
     "start_time": "2024-03-13T08:57:44.742988",
     "status": "completed"
    },
    "tags": []
   },
   "outputs": [],
   "source": [
    "lasso = Lasso()"
   ]
  },
  {
   "cell_type": "code",
   "execution_count": 57,
   "id": "c685e6a9",
   "metadata": {
    "execution": {
     "iopub.execute_input": "2024-03-13T08:57:44.828145Z",
     "iopub.status.busy": "2024-03-13T08:57:44.827866Z",
     "iopub.status.idle": "2024-03-13T08:57:44.831772Z",
     "shell.execute_reply": "2024-03-13T08:57:44.830946Z"
    },
    "papermill": {
     "duration": 0.032307,
     "end_time": "2024-03-13T08:57:44.833610",
     "exception": false,
     "start_time": "2024-03-13T08:57:44.801303",
     "status": "completed"
    },
    "tags": []
   },
   "outputs": [],
   "source": [
    "pipe_lasso = make_pipeline(col_trans,scaler,lasso)"
   ]
  },
  {
   "cell_type": "code",
   "execution_count": 58,
   "id": "7e988cbc",
   "metadata": {
    "execution": {
     "iopub.execute_input": "2024-03-13T08:57:44.886133Z",
     "iopub.status.busy": "2024-03-13T08:57:44.885876Z",
     "iopub.status.idle": "2024-03-13T08:57:44.975911Z",
     "shell.execute_reply": "2024-03-13T08:57:44.974413Z"
    },
    "papermill": {
     "duration": 0.121574,
     "end_time": "2024-03-13T08:57:44.980955",
     "exception": false,
     "start_time": "2024-03-13T08:57:44.859381",
     "status": "completed"
    },
    "tags": []
   },
   "outputs": [
    {
     "data": {
      "text/plain": [
       "Pipeline(steps=[('columntransformer',\n",
       "                 ColumnTransformer(remainder='passthrough',\n",
       "                                   transformers=[('onehotencoder',\n",
       "                                                  OneHotEncoder(sparse=False),\n",
       "                                                  ['location'])])),\n",
       "                ('standardscaler', StandardScaler()), ('lasso', Lasso())])"
      ]
     },
     "execution_count": 58,
     "metadata": {},
     "output_type": "execute_result"
    }
   ],
   "source": [
    "pipe_lasso.fit(X_train,y_train)"
   ]
  },
  {
   "cell_type": "code",
   "execution_count": 59,
   "id": "9a301b31",
   "metadata": {
    "execution": {
     "iopub.execute_input": "2024-03-13T08:57:45.087125Z",
     "iopub.status.busy": "2024-03-13T08:57:45.086785Z",
     "iopub.status.idle": "2024-03-13T08:57:45.098872Z",
     "shell.execute_reply": "2024-03-13T08:57:45.097698Z"
    },
    "papermill": {
     "duration": 0.065862,
     "end_time": "2024-03-13T08:57:45.104507",
     "exception": false,
     "start_time": "2024-03-13T08:57:45.038645",
     "status": "completed"
    },
    "tags": []
   },
   "outputs": [],
   "source": [
    "y_pred_lasso = pipe_lasso.predict(X_test)"
   ]
  },
  {
   "cell_type": "code",
   "execution_count": 60,
   "id": "d0593d64",
   "metadata": {
    "execution": {
     "iopub.execute_input": "2024-03-13T08:57:45.219831Z",
     "iopub.status.busy": "2024-03-13T08:57:45.218215Z",
     "iopub.status.idle": "2024-03-13T08:57:45.228300Z",
     "shell.execute_reply": "2024-03-13T08:57:45.227228Z"
    },
    "papermill": {
     "duration": 0.069668,
     "end_time": "2024-03-13T08:57:45.230857",
     "exception": false,
     "start_time": "2024-03-13T08:57:45.161189",
     "status": "completed"
    },
    "tags": []
   },
   "outputs": [
    {
     "data": {
      "text/plain": [
       "0.8128285650772719"
      ]
     },
     "execution_count": 60,
     "metadata": {},
     "output_type": "execute_result"
    }
   ],
   "source": [
    "r2_score(y_test,y_pred_lasso)"
   ]
  },
  {
   "cell_type": "markdown",
   "id": "3b4d5420",
   "metadata": {
    "papermill": {
     "duration": 0.025785,
     "end_time": "2024-03-13T08:57:45.282866",
     "exception": false,
     "start_time": "2024-03-13T08:57:45.257081",
     "status": "completed"
    },
    "tags": []
   },
   "source": [
    "# Applying Ridge"
   ]
  },
  {
   "cell_type": "code",
   "execution_count": 61,
   "id": "42ecf22c",
   "metadata": {
    "execution": {
     "iopub.execute_input": "2024-03-13T08:57:45.335995Z",
     "iopub.status.busy": "2024-03-13T08:57:45.335716Z",
     "iopub.status.idle": "2024-03-13T08:57:45.339629Z",
     "shell.execute_reply": "2024-03-13T08:57:45.338773Z"
    },
    "papermill": {
     "duration": 0.032651,
     "end_time": "2024-03-13T08:57:45.341442",
     "exception": false,
     "start_time": "2024-03-13T08:57:45.308791",
     "status": "completed"
    },
    "tags": []
   },
   "outputs": [],
   "source": [
    "ridge = Ridge()"
   ]
  },
  {
   "cell_type": "code",
   "execution_count": 62,
   "id": "5cb59ff4",
   "metadata": {
    "execution": {
     "iopub.execute_input": "2024-03-13T08:57:45.395724Z",
     "iopub.status.busy": "2024-03-13T08:57:45.395022Z",
     "iopub.status.idle": "2024-03-13T08:57:45.399094Z",
     "shell.execute_reply": "2024-03-13T08:57:45.398265Z"
    },
    "papermill": {
     "duration": 0.033057,
     "end_time": "2024-03-13T08:57:45.400992",
     "exception": false,
     "start_time": "2024-03-13T08:57:45.367935",
     "status": "completed"
    },
    "tags": []
   },
   "outputs": [],
   "source": [
    "pipe_ridge = make_pipeline(col_trans,scaler,ridge)"
   ]
  },
  {
   "cell_type": "code",
   "execution_count": 63,
   "id": "81c73962",
   "metadata": {
    "execution": {
     "iopub.execute_input": "2024-03-13T08:57:45.454471Z",
     "iopub.status.busy": "2024-03-13T08:57:45.454189Z",
     "iopub.status.idle": "2024-03-13T08:57:45.579885Z",
     "shell.execute_reply": "2024-03-13T08:57:45.578530Z"
    },
    "papermill": {
     "duration": 0.157542,
     "end_time": "2024-03-13T08:57:45.584744",
     "exception": false,
     "start_time": "2024-03-13T08:57:45.427202",
     "status": "completed"
    },
    "tags": []
   },
   "outputs": [
    {
     "data": {
      "text/plain": [
       "Pipeline(steps=[('columntransformer',\n",
       "                 ColumnTransformer(remainder='passthrough',\n",
       "                                   transformers=[('onehotencoder',\n",
       "                                                  OneHotEncoder(sparse=False),\n",
       "                                                  ['location'])])),\n",
       "                ('standardscaler', StandardScaler()), ('ridge', Ridge())])"
      ]
     },
     "execution_count": 63,
     "metadata": {},
     "output_type": "execute_result"
    }
   ],
   "source": [
    "pipe_ridge.fit(X_train,y_train)"
   ]
  },
  {
   "cell_type": "code",
   "execution_count": 64,
   "id": "5df22512",
   "metadata": {
    "execution": {
     "iopub.execute_input": "2024-03-13T08:57:45.684652Z",
     "iopub.status.busy": "2024-03-13T08:57:45.684358Z",
     "iopub.status.idle": "2024-03-13T08:57:45.702394Z",
     "shell.execute_reply": "2024-03-13T08:57:45.701056Z"
    },
    "papermill": {
     "duration": 0.049886,
     "end_time": "2024-03-13T08:57:45.706734",
     "exception": false,
     "start_time": "2024-03-13T08:57:45.656848",
     "status": "completed"
    },
    "tags": []
   },
   "outputs": [],
   "source": [
    "y_pred_ridge = pipe_ridge.predict(X_test)"
   ]
  },
  {
   "cell_type": "code",
   "execution_count": 65,
   "id": "6f7fab97",
   "metadata": {
    "execution": {
     "iopub.execute_input": "2024-03-13T08:57:45.824204Z",
     "iopub.status.busy": "2024-03-13T08:57:45.823642Z",
     "iopub.status.idle": "2024-03-13T08:57:45.833195Z",
     "shell.execute_reply": "2024-03-13T08:57:45.832077Z"
    },
    "papermill": {
     "duration": 0.072225,
     "end_time": "2024-03-13T08:57:45.836731",
     "exception": false,
     "start_time": "2024-03-13T08:57:45.764506",
     "status": "completed"
    },
    "tags": []
   },
   "outputs": [
    {
     "data": {
      "text/plain": [
       "0.82341466333127"
      ]
     },
     "execution_count": 65,
     "metadata": {},
     "output_type": "execute_result"
    }
   ],
   "source": [
    "r2_score(y_test,y_pred_ridge)"
   ]
  },
  {
   "cell_type": "markdown",
   "id": "276205d6",
   "metadata": {
    "papermill": {
     "duration": 0.026807,
     "end_time": "2024-03-13T08:57:45.890640",
     "exception": false,
     "start_time": "2024-03-13T08:57:45.863833",
     "status": "completed"
    },
    "tags": []
   },
   "source": [
    "# Random Forest Regressor"
   ]
  },
  {
   "cell_type": "code",
   "execution_count": 66,
   "id": "fc799410",
   "metadata": {
    "execution": {
     "iopub.execute_input": "2024-03-13T08:57:45.945469Z",
     "iopub.status.busy": "2024-03-13T08:57:45.945185Z",
     "iopub.status.idle": "2024-03-13T08:57:45.949287Z",
     "shell.execute_reply": "2024-03-13T08:57:45.948402Z"
    },
    "papermill": {
     "duration": 0.034049,
     "end_time": "2024-03-13T08:57:45.951133",
     "exception": false,
     "start_time": "2024-03-13T08:57:45.917084",
     "status": "completed"
    },
    "tags": []
   },
   "outputs": [],
   "source": [
    "rm = RandomForestRegressor(n_estimators=100, random_state=0)"
   ]
  },
  {
   "cell_type": "code",
   "execution_count": 67,
   "id": "cdf56fb6",
   "metadata": {
    "execution": {
     "iopub.execute_input": "2024-03-13T08:57:46.004911Z",
     "iopub.status.busy": "2024-03-13T08:57:46.004678Z",
     "iopub.status.idle": "2024-03-13T08:57:46.008360Z",
     "shell.execute_reply": "2024-03-13T08:57:46.007554Z"
    },
    "papermill": {
     "duration": 0.032689,
     "end_time": "2024-03-13T08:57:46.010178",
     "exception": false,
     "start_time": "2024-03-13T08:57:45.977489",
     "status": "completed"
    },
    "tags": []
   },
   "outputs": [],
   "source": [
    "pipe_rf = make_pipeline(col_trans,scaler, rm)"
   ]
  },
  {
   "cell_type": "code",
   "execution_count": 68,
   "id": "47405d41",
   "metadata": {
    "execution": {
     "iopub.execute_input": "2024-03-13T08:57:46.064315Z",
     "iopub.status.busy": "2024-03-13T08:57:46.064045Z",
     "iopub.status.idle": "2024-03-13T08:57:53.209817Z",
     "shell.execute_reply": "2024-03-13T08:57:53.208892Z"
    },
    "papermill": {
     "duration": 7.175127,
     "end_time": "2024-03-13T08:57:53.211877",
     "exception": false,
     "start_time": "2024-03-13T08:57:46.036750",
     "status": "completed"
    },
    "tags": []
   },
   "outputs": [
    {
     "data": {
      "text/plain": [
       "Pipeline(steps=[('columntransformer',\n",
       "                 ColumnTransformer(remainder='passthrough',\n",
       "                                   transformers=[('onehotencoder',\n",
       "                                                  OneHotEncoder(sparse=False),\n",
       "                                                  ['location'])])),\n",
       "                ('standardscaler', StandardScaler()),\n",
       "                ('randomforestregressor',\n",
       "                 RandomForestRegressor(random_state=0))])"
      ]
     },
     "execution_count": 68,
     "metadata": {},
     "output_type": "execute_result"
    }
   ],
   "source": [
    "pipe_rf.fit(X_train,y_train)"
   ]
  },
  {
   "cell_type": "code",
   "execution_count": 69,
   "id": "c4c38075",
   "metadata": {
    "execution": {
     "iopub.execute_input": "2024-03-13T08:57:53.268780Z",
     "iopub.status.busy": "2024-03-13T08:57:53.268480Z",
     "iopub.status.idle": "2024-03-13T08:57:53.325146Z",
     "shell.execute_reply": "2024-03-13T08:57:53.324081Z"
    },
    "papermill": {
     "duration": 0.087258,
     "end_time": "2024-03-13T08:57:53.327749",
     "exception": false,
     "start_time": "2024-03-13T08:57:53.240491",
     "status": "completed"
    },
    "tags": []
   },
   "outputs": [],
   "source": [
    "y_pred_rf = pipe_rf.predict(X_test)"
   ]
  },
  {
   "cell_type": "code",
   "execution_count": 70,
   "id": "d2fcb245",
   "metadata": {
    "execution": {
     "iopub.execute_input": "2024-03-13T08:57:53.387773Z",
     "iopub.status.busy": "2024-03-13T08:57:53.387025Z",
     "iopub.status.idle": "2024-03-13T08:57:53.394091Z",
     "shell.execute_reply": "2024-03-13T08:57:53.393231Z"
    },
    "papermill": {
     "duration": 0.038357,
     "end_time": "2024-03-13T08:57:53.396404",
     "exception": false,
     "start_time": "2024-03-13T08:57:53.358047",
     "status": "completed"
    },
    "tags": []
   },
   "outputs": [
    {
     "data": {
      "text/plain": [
       "0.7931267771952556"
      ]
     },
     "execution_count": 70,
     "metadata": {},
     "output_type": "execute_result"
    }
   ],
   "source": [
    "r2_score(y_test,y_pred_rf)"
   ]
  },
  {
   "cell_type": "markdown",
   "id": "ab3cb0ca",
   "metadata": {
    "papermill": {
     "duration": 0.027227,
     "end_time": "2024-03-13T08:57:53.454773",
     "exception": false,
     "start_time": "2024-03-13T08:57:53.427546",
     "status": "completed"
    },
    "tags": []
   },
   "source": [
    "# Random Forest Regressor using GridSearchCV"
   ]
  },
  {
   "cell_type": "code",
   "execution_count": 71,
   "id": "cd6b8992",
   "metadata": {
    "execution": {
     "iopub.execute_input": "2024-03-13T08:57:53.511241Z",
     "iopub.status.busy": "2024-03-13T08:57:53.510581Z",
     "iopub.status.idle": "2024-03-13T08:57:53.514877Z",
     "shell.execute_reply": "2024-03-13T08:57:53.514082Z"
    },
    "papermill": {
     "duration": 0.035069,
     "end_time": "2024-03-13T08:57:53.516749",
     "exception": false,
     "start_time": "2024-03-13T08:57:53.481680",
     "status": "completed"
    },
    "tags": []
   },
   "outputs": [],
   "source": [
    "col_trans = make_column_transformer((OneHotEncoder(),\n",
    "                                ['location']),\n",
    "                               remainder = 'passthrough')\n",
    "scaler = StandardScaler(with_mean=False)  # Set with_mean=False for sparse matrices"
   ]
  },
  {
   "cell_type": "code",
   "execution_count": 72,
   "id": "71f0aa61",
   "metadata": {
    "execution": {
     "iopub.execute_input": "2024-03-13T08:57:53.571634Z",
     "iopub.status.busy": "2024-03-13T08:57:53.571362Z",
     "iopub.status.idle": "2024-03-13T08:57:53.575067Z",
     "shell.execute_reply": "2024-03-13T08:57:53.574274Z"
    },
    "papermill": {
     "duration": 0.033566,
     "end_time": "2024-03-13T08:57:53.577137",
     "exception": false,
     "start_time": "2024-03-13T08:57:53.543571",
     "status": "completed"
    },
    "tags": []
   },
   "outputs": [],
   "source": [
    "rf_grid_search = RandomForestRegressor(random_state=42)"
   ]
  },
  {
   "cell_type": "code",
   "execution_count": 73,
   "id": "21ce416b",
   "metadata": {
    "execution": {
     "iopub.execute_input": "2024-03-13T08:57:53.633064Z",
     "iopub.status.busy": "2024-03-13T08:57:53.632783Z",
     "iopub.status.idle": "2024-03-13T08:57:53.636680Z",
     "shell.execute_reply": "2024-03-13T08:57:53.635866Z"
    },
    "papermill": {
     "duration": 0.033535,
     "end_time": "2024-03-13T08:57:53.638480",
     "exception": false,
     "start_time": "2024-03-13T08:57:53.604945",
     "status": "completed"
    },
    "tags": []
   },
   "outputs": [],
   "source": [
    "pipe_rf_grid = make_pipeline(col_trans,scaler, rf_grid_search)"
   ]
  },
  {
   "cell_type": "code",
   "execution_count": 74,
   "id": "e5916862",
   "metadata": {
    "execution": {
     "iopub.execute_input": "2024-03-13T08:57:53.693911Z",
     "iopub.status.busy": "2024-03-13T08:57:53.693634Z",
     "iopub.status.idle": "2024-03-13T08:57:53.697956Z",
     "shell.execute_reply": "2024-03-13T08:57:53.697263Z"
    },
    "papermill": {
     "duration": 0.034245,
     "end_time": "2024-03-13T08:57:53.699783",
     "exception": false,
     "start_time": "2024-03-13T08:57:53.665538",
     "status": "completed"
    },
    "tags": []
   },
   "outputs": [],
   "source": [
    "param_grid = {\n",
    "    'randomforestregressor__n_estimators': [100, 200, 300],    # Number of trees in the forest\n",
    "    'randomforestregressor__max_depth': [None, 10, 20],        # Maximum depth of the trees\n",
    "    'randomforestregressor__min_samples_split': [2, 5, 10]     # Minimum number of samples required to split an internal node\n",
    "}\n"
   ]
  },
  {
   "cell_type": "code",
   "execution_count": 75,
   "id": "068ae356",
   "metadata": {
    "execution": {
     "iopub.execute_input": "2024-03-13T08:57:53.754643Z",
     "iopub.status.busy": "2024-03-13T08:57:53.754378Z",
     "iopub.status.idle": "2024-03-13T08:57:53.758355Z",
     "shell.execute_reply": "2024-03-13T08:57:53.757623Z"
    },
    "papermill": {
     "duration": 0.033492,
     "end_time": "2024-03-13T08:57:53.760178",
     "exception": false,
     "start_time": "2024-03-13T08:57:53.726686",
     "status": "completed"
    },
    "tags": []
   },
   "outputs": [],
   "source": [
    "grid_search = GridSearchCV(estimator= pipe_rf_grid, param_grid = param_grid, cv=5, scoring='r2')"
   ]
  },
  {
   "cell_type": "code",
   "execution_count": 76,
   "id": "f2612b6e",
   "metadata": {
    "execution": {
     "iopub.execute_input": "2024-03-13T08:57:53.815102Z",
     "iopub.status.busy": "2024-03-13T08:57:53.814840Z",
     "iopub.status.idle": "2024-03-13T09:15:06.437004Z",
     "shell.execute_reply": "2024-03-13T09:15:06.436180Z"
    },
    "papermill": {
     "duration": 1032.679931,
     "end_time": "2024-03-13T09:15:06.466971",
     "exception": false,
     "start_time": "2024-03-13T08:57:53.787040",
     "status": "completed"
    },
    "tags": []
   },
   "outputs": [
    {
     "data": {
      "text/plain": [
       "GridSearchCV(cv=5,\n",
       "             estimator=Pipeline(steps=[('columntransformer',\n",
       "                                        ColumnTransformer(remainder='passthrough',\n",
       "                                                          transformers=[('onehotencoder',\n",
       "                                                                         OneHotEncoder(),\n",
       "                                                                         ['location'])])),\n",
       "                                       ('standardscaler',\n",
       "                                        StandardScaler(with_mean=False)),\n",
       "                                       ('randomforestregressor',\n",
       "                                        RandomForestRegressor(random_state=42))]),\n",
       "             param_grid={'randomforestregressor__max_depth': [None, 10, 20],\n",
       "                         'randomforestregressor__min_samples_split': [2, 5, 10],\n",
       "                         'randomforestregressor__n_estimators': [100, 200,\n",
       "                                                                 300]},\n",
       "             scoring='r2')"
      ]
     },
     "execution_count": 76,
     "metadata": {},
     "output_type": "execute_result"
    }
   ],
   "source": [
    "grid_search.fit(X_train, y_train)"
   ]
  },
  {
   "cell_type": "code",
   "execution_count": 77,
   "id": "183551d9",
   "metadata": {
    "execution": {
     "iopub.execute_input": "2024-03-13T09:15:06.523464Z",
     "iopub.status.busy": "2024-03-13T09:15:06.523148Z",
     "iopub.status.idle": "2024-03-13T09:15:06.527102Z",
     "shell.execute_reply": "2024-03-13T09:15:06.526359Z"
    },
    "papermill": {
     "duration": 0.033899,
     "end_time": "2024-03-13T09:15:06.528973",
     "exception": false,
     "start_time": "2024-03-13T09:15:06.495074",
     "status": "completed"
    },
    "tags": []
   },
   "outputs": [],
   "source": [
    "best_rf_model = grid_search.best_estimator_"
   ]
  },
  {
   "cell_type": "code",
   "execution_count": 78,
   "id": "66659fb9",
   "metadata": {
    "execution": {
     "iopub.execute_input": "2024-03-13T09:15:06.584910Z",
     "iopub.status.busy": "2024-03-13T09:15:06.584660Z",
     "iopub.status.idle": "2024-03-13T09:15:06.717166Z",
     "shell.execute_reply": "2024-03-13T09:15:06.716424Z"
    },
    "papermill": {
     "duration": 0.16254,
     "end_time": "2024-03-13T09:15:06.719162",
     "exception": false,
     "start_time": "2024-03-13T09:15:06.556622",
     "status": "completed"
    },
    "tags": []
   },
   "outputs": [],
   "source": [
    "y_pred_rf_grid_search = best_rf_model.predict(X_test)"
   ]
  },
  {
   "cell_type": "code",
   "execution_count": 79,
   "id": "f133a3be",
   "metadata": {
    "execution": {
     "iopub.execute_input": "2024-03-13T09:15:06.775674Z",
     "iopub.status.busy": "2024-03-13T09:15:06.774969Z",
     "iopub.status.idle": "2024-03-13T09:15:06.780685Z",
     "shell.execute_reply": "2024-03-13T09:15:06.779707Z"
    },
    "papermill": {
     "duration": 0.03577,
     "end_time": "2024-03-13T09:15:06.782726",
     "exception": false,
     "start_time": "2024-03-13T09:15:06.746956",
     "status": "completed"
    },
    "tags": []
   },
   "outputs": [
    {
     "name": "stdout",
     "output_type": "stream",
     "text": [
      "Best Model R-squared Score: 0.8050910988172337\n",
      "Best Model Parameters: {'randomforestregressor__max_depth': None, 'randomforestregressor__min_samples_split': 5, 'randomforestregressor__n_estimators': 300}\n"
     ]
    }
   ],
   "source": [
    "print(\"Best Model R-squared Score:\", r2_score(y_test, y_pred_rf_grid_search))\n",
    "print(\"Best Model Parameters:\", grid_search.best_params_)"
   ]
  },
  {
   "cell_type": "markdown",
   "id": "c916d13b",
   "metadata": {
    "papermill": {
     "duration": 0.027116,
     "end_time": "2024-03-13T09:15:06.839066",
     "exception": false,
     "start_time": "2024-03-13T09:15:06.811950",
     "status": "completed"
    },
    "tags": []
   },
   "source": [
    "# Results"
   ]
  },
  {
   "cell_type": "code",
   "execution_count": 80,
   "id": "56b917bc",
   "metadata": {
    "execution": {
     "iopub.execute_input": "2024-03-13T09:15:06.894857Z",
     "iopub.status.busy": "2024-03-13T09:15:06.894605Z",
     "iopub.status.idle": "2024-03-13T09:15:06.904325Z",
     "shell.execute_reply": "2024-03-13T09:15:06.903279Z"
    },
    "papermill": {
     "duration": 0.039911,
     "end_time": "2024-03-13T09:15:06.906272",
     "exception": false,
     "start_time": "2024-03-13T09:15:06.866361",
     "status": "completed"
    },
    "tags": []
   },
   "outputs": [
    {
     "name": "stdout",
     "output_type": "stream",
     "text": [
      "No Reularization :  0.8233319198743454\n",
      "-_-_-_-_-_-_-_-_-_-_-_-_-_-_-_-_-_-_-_-_\n",
      "Lasso Reularization :  0.8128285650772719\n",
      "-_-_-_-_-_-_-_-_-_-_-_-_-_-_-_-_-_-_-_-_\n",
      "Ridge Reularization :  0.82341466333127\n",
      "-_-_-_-_-_-_-_-_-_-_-_-_-_-_-_-_-_-_-_-_\n",
      "Random Forest Regressor :  0.7931267771952556\n",
      "-_-_-_-_-_-_-_-_-_-_-_-_-_-_-_-_-_-_-_-_\n",
      "Random Forest Regressor using GridSearchCV :  0.8050910988172337\n"
     ]
    }
   ],
   "source": [
    "print('No Reularization : ', r2_score(y_test,y_pred_lr))\n",
    "print('-_'*20)\n",
    "print('Lasso Reularization : ', r2_score(y_test,y_pred_lasso))\n",
    "print('-_'*20)\n",
    "print('Ridge Reularization : ' , r2_score(y_test,y_pred_ridge))\n",
    "print('-_'*20)\n",
    "print('Random Forest Regressor : ', r2_score(y_test,y_pred_rf))\n",
    "print('-_'*20)\n",
    "print(\"Random Forest Regressor using GridSearchCV : \", r2_score(y_test, y_pred_rf_grid_search))"
   ]
  },
  {
   "cell_type": "code",
   "execution_count": 100,
   "id": "45cf4191",
   "metadata": {},
   "outputs": [
    {
     "name": "stderr",
     "output_type": "stream",
     "text": [
      "C:\\Users\\KIIT\\anaconda3\\lib\\site-packages\\seaborn\\axisgrid.py:2076: UserWarning: The `size` parameter has been renamed to `height`; please update your code.\n",
      "  warnings.warn(msg, UserWarning)\n"
     ]
    },
    {
     "data": {
      "image/png": "[encoded data removed]",
      "text/plain": [
       "<Figure size 781.5x720 with 6 Axes>"
      ]
     },
     "metadata": {
      "needs_background": "light"
     },
     "output_type": "display_data"
    }
   ],
   "source": [
    "\n",
    "sns.pairplot(df,hue=\"price\",size=5);\n",
    "plt.show()"
   ]
  },
  {
   "cell_type": "code",
   "execution_count": 99,
   "id": "c07f1852",
   "metadata": {},
   "outputs": [
    {
     "name": "stderr",
     "output_type": "stream",
     "text": [
      "C:\\Users\\KIIT\\anaconda3\\lib\\site-packages\\seaborn\\axisgrid.py:2076: UserWarning: The `size` parameter has been renamed to `height`; please update your code.\n",
      "  warnings.warn(msg, UserWarning)\n"
     ]
    },
    {
     "data": {
      "image/png": "[encoded data removed]",
      "text/plain": [
       "<Figure size 744.75x648 with 12 Axes>"
      ]
     },
     "metadata": {
      "needs_background": "light"
     },
     "output_type": "display_data"
    }
   ],
   "source": [
    "\n",
    "sns.pairplot(df,hue=\"size\",size=3);\n",
    "plt.show()"
   ]
  },
  {
   "cell_type": "code",
   "execution_count": 97,
   "id": "f2594bdd",
   "metadata": {},
   "outputs": [
    {
     "data": {
      "text/plain": [
       "<AxesSubplot:xlabel='price', ylabel='area_type'>"
      ]
     },
     "execution_count": 97,
     "metadata": {},
     "output_type": "execute_result"
    },
    {
     "data": {
      "image/png": "[encoded data removed]",
      "text/plain": [
       "<Figure size 432x288 with 1 Axes>"
      ]
     },
     "metadata": {
      "needs_background": "light"
     },
     "output_type": "display_data"
    }
   ],
   "source": [
    "sns.boxplot(x='price',y='area_type',data=df)"
   ]
  },
  {
   "cell_type": "code",
   "execution_count": 98,
   "id": "2dd92e29",
   "metadata": {},
   "outputs": [
    {
     "data": {
      "text/plain": [
       "<AxesSubplot:xlabel='price', ylabel='size'>"
      ]
     },
     "execution_count": 98,
     "metadata": {},
     "output_type": "execute_result"
    },
    {
     "data": {
      "image/png": "[encoded data removed]",
      "text/plain": [
       "<Figure size 432x288 with 1 Axes>"
      ]
     },
     "metadata": {
      "needs_background": "light"
     },
     "output_type": "display_data"
    }
   ],
   "source": [
    "sns.boxplot(x='price',y='size',data=df)"
   ]
  },
  {
   "cell_type": "code",
   "execution_count": 92,
   "id": "6dac6837",
   "metadata": {},
   "outputs": [
    {
     "data": {
      "text/plain": [
       "<AxesSubplot:xlabel='bath', ylabel='price'>"
      ]
     },
     "execution_count": 92,
     "metadata": {},
     "output_type": "execute_result"
    },
    {
     "data": {
      "image/png": "[encoded data removed]",
      "text/plain": [
       "<Figure size 432x288 with 1 Axes>"
      ]
     },
     "metadata": {
      "needs_background": "light"
     },
     "output_type": "display_data"
    }
   ],
   "source": [
    "sns.boxplot(x='bath',y='price',data=df)"
   ]
  },
  {
   "cell_type": "code",
   "execution_count": null,
   "id": "e25d8157",
   "metadata": {},
   "outputs": [],
   "source": []
  }
 ],
 "metadata": {
  "kaggle": {
   "accelerator": "gpu",
   "dataSources": [
    {
     "datasetId": 20710,
     "sourceId": 26737,
     "sourceType": "datasetVersion"
    }
   ],
   "dockerImageVersionId": 30664,
   "isGpuEnabled": true,
   "isInternetEnabled": true,
   "language": "python",
   "sourceType": "notebook"
  },
  "kernelspec": {
   "display_name": "Python 3 (ipykernel)",
   "language": "python",
   "name": "python3"
  },
  "language_info": {
   "codemirror_mode": {
    "name": "ipython",
    "version": 3
   },
   "file_extension": ".py",
   "mimetype": "text/x-python",
   "name": "python",
   "nbconvert_exporter": "python",
   "pygments_lexer": "ipython3",
   "version": "3.9.7"
  },
  "papermill": {
   "default_parameters": {},
   "duration": 1052.177166,
   "end_time": "2024-03-13T09:15:07.353858",
   "environment_variables": {},
   "exception": null,
   "input_path": "__notebook__.ipynb",
   "output_path": "__notebook__.ipynb",
   "parameters": {},
   "start_time": "2024-03-13T08:57:35.176692",
   "version": "2.5.0"
  }
 },
 "nbformat": 4,
 "nbformat_minor": 5
}
